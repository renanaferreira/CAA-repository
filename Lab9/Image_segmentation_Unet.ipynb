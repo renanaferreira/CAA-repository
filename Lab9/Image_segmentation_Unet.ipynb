{
 "cells": [
  {
   "cell_type": "markdown",
   "metadata": {
    "id": "Q3NVDfXY4__X"
   },
   "source": [
    "# Lab: Image Segmentation with U-Net\n",
    "\n",
    "In this assignment you will build a U-Net, a type of CNN designed for image segmentation, and use it to predict a label for every single pixel in an image - in this case, an image from a self-driving car dataset. \n",
    "\n",
    "This type of image classification is called semantic image segmentation. It's similar to object detection, but while in classical object detection, the bounding boxes may include pixels that aren't part of the object, in the semantic image segmentation each pixel in the image gets a class label.  \n",
    "\n",
    " The word “semantic” here refers to what is shown, for example the “Car” class is indicated below by the dark blue mask, \"Person\" is indicated with a red mask. \n",
    "\n",
    "<img src=\"images/carseg.png\" style=\"width:500px;height:250;\">\n",
    "<caption><center> <u><b>Figure 1</u></b>: Example of a segmented image <br> </center></caption>"
   ]
  },
  {
   "cell_type": "markdown",
   "metadata": {},
   "source": [
    "<a name='1'></a>\n",
    "## 1 - Packages\n"
   ]
  },
  {
   "cell_type": "code",
   "execution_count": null,
   "metadata": {
    "id": "0exJ9KsDrwck"
   },
   "outputs": [],
   "source": [
    "import tensorflow as tf\n",
    "import numpy as np\n",
    "\n",
    "from tensorflow.keras.layers import Input\n",
    "from tensorflow.keras.layers import Conv2D\n",
    "from tensorflow.keras.layers import MaxPooling2D\n",
    "from tensorflow.keras.layers import Dropout \n",
    "from tensorflow.keras.layers import Conv2DTranspose\n",
    "from tensorflow.keras.layers import concatenate\n",
    "\n",
    "from test_utils import summary\n",
    "\n",
    "import os\n",
    "import pandas as pd # data processing, CSV file I/O (e.g. pd.read_csv)\n",
    "\n",
    "import imageio\n",
    "\n",
    "import matplotlib.pyplot as plt\n",
    "%matplotlib inline\n",
    "\n",
    "import outputs"
   ]
  },
  {
   "cell_type": "markdown",
   "metadata": {},
   "source": [
    "<a name='2'></a>\n",
    "## 2 - Load and Split the Data"
   ]
  },
  {
   "cell_type": "code",
   "execution_count": null,
   "metadata": {
    "id": "FWpkuq4tfU4i"
   },
   "outputs": [],
   "source": [
    "path = ''\n",
    "image_path = os.path.join(path, './data/CameraRGB/')  # images\n",
    "mask_path = os.path.join(path, './data/CameraMask/') #masks (ground truth)\n",
    "image_list = os.listdir(image_path)\n",
    "mask_list = os.listdir(mask_path)\n",
    "image_list = [image_path+i for i in image_list]\n",
    "mask_list = [mask_path+i for i in mask_list]\n",
    "\n",
    "#What is the length of image_list ?\n",
    "\n",
    "?\n"
   ]
  },
  {
   "cell_type": "markdown",
   "metadata": {},
   "source": [
    "### Visualize unmasked and masked images from the dataset\n",
    "\n",
    "The masked images play the role of ground truth used during training the classification (segmentation) model."
   ]
  },
  {
   "cell_type": "code",
   "execution_count": null,
   "metadata": {
    "colab": {
     "base_uri": "https://localhost:8080/",
     "height": 347
    },
    "id": "RZhnXflBl6Xm",
    "outputId": "dcdd7563-53b9-4ce3-f400-e011f4df9cdc"
   },
   "outputs": [],
   "source": [
    "N = 3 #you can choose other index of image and mask\n",
    "img = imageio.imread(image_list[N])\n",
    "mask = imageio.imread(mask_list[N])\n",
    "\n",
    "fig, arr = plt.subplots(1, 2, figsize=(14, 10)) \n",
    "arr[0].imshow(img)\n",
    "arr[0].set_title('Image')\n",
    "arr[1].imshow(mask[:, :, 0])\n",
    "arr[1].set_title('Segmentation')\n",
    "\n",
    "#What are the dimension of the images and masks\n",
    "?"
   ]
  },
  {
   "cell_type": "markdown",
   "metadata": {},
   "source": [
    "<a name='2-1'></a>\n",
    "### 2.1 - Create tf Dataset of Unmasked and Masked Images"
   ]
  },
  {
   "cell_type": "code",
   "execution_count": null,
   "metadata": {
    "colab": {
     "base_uri": "https://localhost:8080/"
    },
    "id": "FlzMS0mhmkb1",
    "outputId": "e2ad8c66-c380-400f-aed0-9f4b1f53ecad"
   },
   "outputs": [],
   "source": [
    "image_list_ds = tf.data.Dataset.list_files(image_list, shuffle=False)\n",
    "mask_list_ds = tf.data.Dataset.list_files(mask_list, shuffle=False)\n",
    "\n",
    "for path in zip(image_list_ds.take(3), mask_list_ds.take(3)):\n",
    "    print(path)"
   ]
  },
  {
   "cell_type": "code",
   "execution_count": null,
   "metadata": {
    "colab": {
     "base_uri": "https://localhost:8080/"
    },
    "id": "aNF2Ztii8-Jx",
    "outputId": "7e91a651-a54c-4838-e1db-41ef4915680e"
   },
   "outputs": [],
   "source": [
    "image_filenames = tf.constant(image_list)\n",
    "masks_filenames = tf.constant(mask_list)\n",
    "\n",
    "\n",
    "dataset = tf.data.Dataset.from_tensor_slices((image_filenames, masks_filenames))\n",
    "\n",
    "for image, mask in dataset.take(1):\n",
    "    print(image)\n",
    "    print(mask)\n",
    "    "
   ]
  },
  {
   "cell_type": "markdown",
   "metadata": {},
   "source": [
    "<a name='2-2'></a>\n",
    "### 2.2 - Data Preprocessing"
   ]
  },
  {
   "cell_type": "code",
   "execution_count": null,
   "metadata": {
    "id": "NUjQfI1wmkkn"
   },
   "outputs": [],
   "source": [
    "#Transform from png image to 3D matrix of real numbers\n",
    "def process_path(image_path, mask_path):\n",
    "    img = tf.io.read_file(image_path)\n",
    "    img = tf.image.decode_png(img, channels=3)\n",
    "    img = tf.image.convert_image_dtype(img, tf.float32)\n",
    "\n",
    "    mask = tf.io.read_file(mask_path)\n",
    "    mask = tf.image.decode_png(mask, channels=3)\n",
    "    mask = tf.math.reduce_max(mask, axis=-1, keepdims=True)\n",
    "    return img, mask\n",
    "\n",
    "def preprocess(image, mask):\n",
    "    input_image = tf.image.resize(image, (96, 128), method='nearest')\n",
    "    input_mask = tf.image.resize(mask, (96, 128), method='nearest')\n",
    "\n",
    "    input_image = input_image / 255.\n",
    "\n",
    "    return input_image, input_mask\n",
    "\n",
    "image_ds = dataset.map(process_path)\n",
    "processed_image_ds = image_ds.map(preprocess)\n"
   ]
  },
  {
   "cell_type": "markdown",
   "metadata": {},
   "source": [
    "## 3 - U-Net \n",
    "\n",
    "U-Net, named for its U-shape, was originally created in 2015 for medical image segmentation (tumor detection), but become a popular choice for other semantic segmentation tasks. \n",
    "\n",
    "U-Net builds on a previous architecture called the Fully Convolutional Network (FCN), which replaces the dense layers found in a typical CNN with a transposed convolution layer that upsamples the feature map back to the size of the original input image, while preserving the spatial information. This is necessary because the dense layers destroy spatial information (the \"where\" of the image), which is an essential part of image segmentation tasks. \n",
    "\n",
    "U-Net uses equal number of convolutions for downsampling the input image to a feature map, and transposed convolutions for upsampling those maps back up to the original input image size. It also adds skip connections, to retain information that would otherwise become lost during encoding. Skip connections send information to every upsampling layer in the decoder from the corresponding downsampling layer in the encoder, capturing finer information. "
   ]
  },
  {
   "cell_type": "markdown",
   "metadata": {},
   "source": [
    "<a name='3-1'></a>\n",
    "### 3.1 - Model Details\n",
    "\n",
    "<img src=\"images/unet.png\" style=\"width:700px;height:400;\">\n",
    "<caption><center> <u><b> Figure 2 </u></b>: U-Net Architecture<br> </center></caption>\n",
    "\n",
    "**Contracting path** (Encoder containing downsampling steps):\n",
    "\n",
    "Images are first fed through several convolutional layers which reduce height and width, while growing the number of channels.\n",
    "The contracting path follows a regular CNN architecture, with convolutional layers, their activations, and pooling layers to downsample the image and extract its features. In detail, it consists of the repeated application of two 3 x 3 unpadded convolutions, each followed by a rectified linear unit (ReLU) and a 2 x 2 max pooling operation with stride 2 for downsampling. At each downsampling step, the number of feature channels is doubled.\n",
    "\n",
    "**Crop function**: This step crops the image from the contracting path and concatenates it to the current image on the expanding path to create a skip connection. \n",
    "\n",
    "**Expanding path** (Decoder containing upsampling steps):\n",
    "\n",
    "The expanding path performs the opposite operation of the contracting path, growing the image back to its original size, while shrinking the channels gradually.\n",
    "\n",
    "In detail, each step in the expanding path upsamples the feature map, followed by a 2 x 2 transposed convolution, that halves the number of feature channels, while growing the height and width of the image.\n",
    "\n",
    "Next is a concatenation with the correspondingly cropped feature map from the contracting path, and two 3 x 3 convolutions, each followed by a ReLU. You need to perform cropping to handle the loss of border pixels in every convolution.\n",
    "\n",
    "**Final Feature Mapping Block**: In the final layer, a 1x1 convolution is used to map each 64-component feature vector to the desired number of classes. The channel dimensions from the previous layer correspond to the number of filters used, so when you use 1x1 convolutions, you can transform that dimension by choosing an appropriate number of 1x1 filters. When this idea is applied to the last layer, you can reduce the channel dimensions to have one layer per class. \n",
    "\n",
    "The U-Net network has 23 convolutional layers in total. "
   ]
  },
  {
   "cell_type": "markdown",
   "metadata": {
    "id": "ETPr2Kx7CpqG"
   },
   "source": [
    "<a name='3-2'></a>\n",
    "### 3.2 - Encoder (Downsampling Block) \n",
    "\n",
    "<img src=\"images/encoder.png\" style=\"width:500px;height:500;\">\n",
    "<caption><center> <u><b>Figure 3</u></b>: The U-Net Encoder up close <br> </center></caption>\n",
    "\n",
    "The encoder is a stack of various conv_blocks.\n",
    "\n",
    "<a name='ex-1'></a>\n",
    "### Ex. 1 - conv_block\n",
    "\n",
    "Each `conv_block()` is composed of 2 **Conv2D** layers  with ReLU activations. We will apply **Dropout**, and **MaxPooling2D** to some conv_blocks, as you will verify in the following sections, specifically to the last two blocks of the downsampling. \n",
    "\n",
    "The function will  return two tensors: \n",
    "- `next_layer`: That will go into the next block. \n",
    "- `skip_connection`: That will go into the corresponding decoding block.\n",
    "\n",
    "**Note**: If `max_pooling=True`, the `next_layer` will be the output of the MaxPooling2D layer, but the `skip_connection` will be the output of the previously applied layer(Conv2D or Dropout, depending on the case). Else, both results will be identical.  \n",
    "\n",
    "Implement `conv_block(...)`: \n",
    "\n",
    "* Add 2 **Conv2D** layers with `n_filters` filters with `kernel_size` set to 3, `kernel_initializer` set to ['he_normal'](https://www.tensorflow.org/api_docs/python/tf/keras/initializers/HeNormal), `padding` set to 'same' and 'relu' activation."
   ]
  },
  {
   "cell_type": "code",
   "execution_count": null,
   "metadata": {
    "id": "_jREFwsA5w6j",
    "nbgrader": {
     "grade": false,
     "grade_id": "cell-5bc67a8f4f19dea5",
     "locked": false,
     "schema_version": 3,
     "solution": true,
     "task": false
    }
   },
   "outputs": [],
   "source": [
    "def conv_block(inputs=None, n_filters=32, dropout_prob=0, max_pooling=True):\n",
    "    \"\"\"\n",
    "    Convolutional downsampling block\n",
    "    \n",
    "    Arguments:\n",
    "        inputs -- Input tensor\n",
    "        n_filters -- Number of filters for the convolutional layers\n",
    "        dropout_prob -- Dropout probability\n",
    "        max_pooling -- Use MaxPooling2D to reduce the spatial \n",
    "        # dimensions of the output volume\n",
    "    Returns: \n",
    "        next_layer, skip_connection --  Next layer and skip connection \n",
    "        # outputs\n",
    "    \"\"\"\n",
    "\n",
    "    # Add the first Conv2D layer\n",
    "    conv = Conv2D(n_filters, # Number of filters\n",
    "                  3,# Kernel size   \n",
    "                  activation='relu',\n",
    "                  padding='same',\n",
    "                  kernel_initializer= 'he_normal')(inputs)\n",
    "    \n",
    "    # Add the second Conv2D layer with the same parameters \n",
    "    conv = ?\n",
    "    \n",
    "# if dropout_prob > 0 add Dropout layer, with dropout_prob as parameter\n",
    "    if dropout_prob > 0:\n",
    "          conv = ?      \n",
    "        \n",
    "    # if max_pooling is True add MaxPooling2D with 2x2 pool_size & strides =2\n",
    "    if max_pooling:\n",
    "        next_layer = ?\n",
    "         \n",
    "    else:\n",
    "        next_layer = conv\n",
    "        \n",
    "    skip_connection = conv\n",
    "    \n",
    "    return next_layer, skip_connection"
   ]
  },
  {
   "cell_type": "code",
   "execution_count": null,
   "metadata": {},
   "outputs": [],
   "source": [
    "# Test how to create a model with 1 conv_block\n",
    "\n",
    "input_size=(96, 128, 3)\n",
    "n_filters = 32\n",
    "\n",
    "# function Input is applied to create 3D tensor shape of the inpit \n",
    "# required by the model\n",
    "\n",
    "inputs = Input(input_size)\n",
    "\n",
    "cblock1 = conv_block(inputs, n_filters)\n",
    "model1 = tf.keras.Model(inputs=inputs, outputs=cblock1)\n",
    "\n",
    "print(' Encoder (Downsampling Block) :')\n",
    "for layer in summary(model1):\n",
    "    print(layer)  \n",
    "    \n",
    "# What is the meaning of the printed numbers ?\n"
   ]
  },
  {
   "cell_type": "markdown",
   "metadata": {
    "id": "8n-9c0keCtbf"
   },
   "source": [
    "<a name='3-3'></a>\n",
    "### 3.3 - Decoder (Upsampling Block)\n",
    "\n",
    "The decoder, or upsampling block, upsamples the features back to the original image size. At each upsampling level, you'll take the output of the corresponding encoder block and concatenate it before feeding to the next decoder block.\n",
    "\n",
    "<img src=\"images/decoder.png\" style=\"width:500px;height:500;\">\n",
    "<caption><center> <u><b>Figure 4</u></b>: The U-Net Decoder up close <br> </center></caption>\n",
    "\n",
    "There are two new components in the decoder: `up` and `merge`. These are the transpose convolution and the skip connections. In addition, there are two more convolutional layers set to the same parameters as in the encoder. \n",
    "\n",
    "`Conv2DTranspose` layer performs the inverse of the `Conv2D` layer. Read more about it [here.](https://www.tensorflow.org/api_docs/python/tf/keras/layers/Conv2DTranspose)\n",
    "\n",
    "\n",
    "<a name='ex-2'></a>\n",
    "### Ex. 2 - upsampling_block\n",
    "\n",
    "Function `upsampling_block(...)`:\n",
    "\n",
    "* Takes the arguments `expansive_input` (which is the input tensor from the previous layer) and `contractive_input` (the input tensor from the previous skip layer)\n",
    "* The number of filters here is the same as in the downsampling block you completed.\n",
    "* `Conv2DTranspose` layer will take `n_filters` with shape (3,3) and a stride of (2,2), with padding set to `same`. It's applied to `expansive_input`, or the input tensor from the previous layer. \n",
    "\n",
    "This block is also where the outputs from the encoder blocks are concatenated, creating skip connections. \n",
    "\n",
    "* Concatenate `Conv2DTranspose` layer output to the contractive input, with `axis`= 3. In general, you can concatenate the tensors in the order that you prefer. Here it is suggested to use `[up, contractive_input]`\n",
    "\n",
    "* For the final component, set the parameters for two Conv2D layers to the same values that you set for the two Conv2D layers in the encoder (ReLU activation, He normal initializer, `same` padding). \n"
   ]
  },
  {
   "cell_type": "code",
   "execution_count": null,
   "metadata": {
    "id": "9lzEn-mu6nHa",
    "nbgrader": {
     "grade": false,
     "grade_id": "cell-4a6bea191d41d977",
     "locked": false,
     "schema_version": 3,
     "solution": true,
     "task": false
    }
   },
   "outputs": [],
   "source": [
    "def upsampling_block(expansive_input, contractive_input, n_filters=32):\n",
    "    \"\"\"\n",
    "    Convolutional upsampling block\n",
    "    \n",
    "    Arguments:\n",
    "        expansive_input -- Input tensor from previous layer\n",
    "        contractive_input -- Input tensor from previous skip layer\n",
    "        n_filters -- Number of filters for the convolutional layers\n",
    "    Returns: \n",
    "        conv -- Tensor output\n",
    "    \"\"\"\n",
    "    \n",
    "    #Add Conv2DTranspose layer with n_filters with kernel size 3\n",
    "    #and a stride of (2,2), with padding set to same. \n",
    "    #It's applied to expansive_input \n",
    "    \n",
    "    up = ?\n",
    "    \n",
    "    #Concatenate Conv2DTranspose layer output (up) and \n",
    "    # the contractive input, axis = 3. \n",
    "    merge = ?\n",
    "    \n",
    "# Add 2 Conv2D layers with the same parameters as 2 Conv2D layers\n",
    "# in the encoder (ReLU activation, He normal initializer, same padding).\n",
    "    conv = ?\n",
    "    \n",
    "    conv = ?\n",
    "    \n",
    "    \n",
    "    return conv"
   ]
  },
  {
   "cell_type": "code",
   "execution_count": null,
   "metadata": {
    "nbgrader": {
     "grade": true,
     "grade_id": "cell-10e351ce736f2727",
     "locked": true,
     "points": 10,
     "schema_version": 3,
     "solution": false,
     "task": false
    }
   },
   "outputs": [],
   "source": [
    "# Test how to create a model with 1 upsampling_block\n",
    "# as it was done with the conv_block\n",
    "exp_input_size=(12, 16, 256)\n",
    "contr_input_size = (24, 32, 128)\n",
    "n_filters = 32\n",
    "\n",
    "#Apply function Input to create 3D tensor shape of the 2 inputs\n",
    "# (expansive_input, contractive_input) of upsampling_block\n",
    "\n",
    "expansive_inputs = ?\n",
    "contractive_inputs = ?\n",
    "\n",
    "\n",
    "cblock2 = ?\n",
    "\n",
    "# Argument inputs =[expansive_inputs, contractive_inputs]\n",
    "model2 = ?\n",
    "\n",
    "print(' Decoder (Upsampling Block: ?')\n",
    " ?"
   ]
  },
  {
   "cell_type": "markdown",
   "metadata": {},
   "source": [
    "<a name='3-4'></a>\n",
    "### 3.4 - Build the Model\n",
    "\n",
    "Now you will put it all together - the encoder, bottleneck, and decoder. \n",
    "\n",
    "<a name='ex-3'></a>\n",
    "### Ex. 3 - unet_model\n",
    "\n",
    "For the function `unet_model`, specify the input shape, number of filters, and number of classes (23 in this case). The number of classes is equal to the number of output channels - there are 23 possible labels for each pixel in this self-driving car dataset. \n",
    "\n",
    "For the first half of the model:\n",
    "\n",
    "* Begin with a conv block that takes the inputs of the model and the number of filters\n",
    "* Then, chain the first output element of each block to the input of the next convolutional block\n",
    "* Next, double the number of filters at each step\n",
    "* For  `block4` add `dropout` of 0.3\n",
    "* For the final conv_block (`block5`), set `dropout` to 0.3, turn off max pooling. (Here `n_filters=n_filters* 16`)\n",
    "\n",
    "For the second half:\n",
    "* From here, at each step, use half the number of filters of the previous block\n",
    "* Use cblock5 as expansive_input and cblock4 as contractive_input, with `n_filters` * 8. This is the bottleneck layer. \n",
    "* Chain the output of the previous block as expansive_input and the corresponding contractive block output.\n",
    "* Note that you must use the second element of the contractive block before the max pooling layer. \n",
    "* `conv9` is a Conv2D layer with ReLU activation, He normal initializer, `same` padding\n",
    "* Finally, `conv10` is a Conv2D that takes the number of classes as the filter, a kernel size of 1, and \"same\" padding. The output of `conv10` is the output of your model. "
   ]
  },
  {
   "cell_type": "code",
   "execution_count": null,
   "metadata": {
    "id": "Sv2UCFehHZsh",
    "nbgrader": {
     "grade": false,
     "grade_id": "cell-e43cf8104499fbd9",
     "locked": false,
     "schema_version": 3,
     "solution": true,
     "task": false
    }
   },
   "outputs": [],
   "source": [
    "def unet_model(input_size=(96, 128, 3), n_filters=32, n_classes=23):\n",
    "    \"\"\"\n",
    "    Unet model\n",
    "    \n",
    "    Arguments:\n",
    "        input_size -- Input shape \n",
    "        n_filters -- Number of filters for the convolutional layers\n",
    "        n_classes -- Number of output classes\n",
    "    Returns: \n",
    "        model -- tf.keras.Model\n",
    "    \"\"\"\n",
    "    inputs = Input(input_size)\n",
    "    \n",
    "# PART 1: Contracting Path (ENCODING)\n",
    "\n",
    "# Add conv_block with the inputs of the unet_ model and n_filters\n",
    "    cblock1 = ?\n",
    "    \n",
    "# The first element of the output of each block has to be the input \n",
    "# of the next conv_block. Double the # of filters at each next step. \n",
    "        cblock2 = conv_block(inputs=cblock1[0], n_filters=n_filters*2)\n",
    "    \n",
    "# Add conv_block; double the # of filters compared to the previous block \n",
    "    cblock3 = ?\n",
    "    \n",
    "# Add conv_block; double the # of filters; include dropout of 0.3 \n",
    "    cblock4 = ?\n",
    "    \n",
    "# Add conv_block; double the # of filters; include dropout of 0.3;    \n",
    "# max_pooling=False\n",
    "    cblock5 = ?\n",
    "    \n",
    "    \n",
    "# PART 2: Expanding Path (DECODING)\n",
    "# From here,at each step, use 1/2 the # of filters of the previous block \n",
    "\n",
    "# Add the 1st upsampling_block. Use cblock5[0] as expansive_input,\n",
    "# cblock4[1] as contractive_input and n_filters * 8\n",
    "    \n",
    "    ublock6 = ?\n",
    "    \n",
    "# Chain the output of the previous block as expansive_input and the \n",
    "# 2nd output of the contractive block (skip connection) as contractive input.\n",
    "    \n",
    "    ublock7 = upsampling_block(ublock6, cblock3[1], n_filters*4)\n",
    "    \n",
    "    ublock8 = ?\n",
    "    \n",
    "    ublock9 = ?\n",
    "    \n",
    "#Add Conv2D layer with ReLU activation, he_normal initializer;`same` padding\n",
    "    conv9 = \n",
    "\n",
    "# Add Conv2D layer with n_classes filters, kernel size 1; 'same' padding\n",
    "\n",
    "    conv10 = \n",
    "    \n",
    "    model = tf.keras.Model(inputs=inputs, outputs=conv10)\n",
    "\n",
    "    return model"
   ]
  },
  {
   "cell_type": "code",
   "execution_count": null,
   "metadata": {},
   "outputs": [],
   "source": [
    "# Get the model summary\n",
    "# How many trainable parameters has the model ?\n",
    "?"
   ]
  },
  {
   "cell_type": "markdown",
   "metadata": {
    "id": "A02eTdbXDDVv"
   },
   "source": [
    "### 3.5 - Loss Function\n",
    "\n",
    "*Sparse categorical crossentropy* is more efficient than other loss functions when performing pixel-wise multiclass prediction."
   ]
  },
  {
   "cell_type": "code",
   "execution_count": null,
   "metadata": {
    "id": "AGfA5_7NtH9i"
   },
   "outputs": [],
   "source": [
    "unet.compile(optimizer='adam',\n",
    "  loss=tf.keras.losses.SparseCategoricalCrossentropy(from_logits=True),\n",
    "              metrics=['accuracy'])"
   ]
  },
  {
   "cell_type": "markdown",
   "metadata": {
    "id": "Sco-8XdVC-gN"
   },
   "source": [
    "## 4 - Train the Model  (It is a very slow process !!!) "
   ]
  },
  {
   "cell_type": "code",
   "execution_count": null,
   "metadata": {
    "colab": {
     "base_uri": "https://localhost:8080/"
    },
    "id": "1Ne0IowRgcom",
    "outputId": "0e68b994-2a09-4cd8-b0d7-c0d042d81144"
   },
   "outputs": [],
   "source": [
    "BUFFER_SIZE = 500\n",
    "BATCH_SIZE = 32\n",
    "processed_image_ds.batch(BATCH_SIZE)\n",
    "train_dataset = processed_image_ds.cache().shuffle(BUFFER_SIZE).batch(BATCH_SIZE)\n",
    "\n",
    "# Fit the model over 5 epochs\n",
    "# With 40 epochs you may get very good results but it may take hours.\n",
    "\n",
    "model_history = ?\n"
   ]
  },
  {
   "cell_type": "code",
   "execution_count": null,
   "metadata": {},
   "outputs": [],
   "source": [
    "# Plot the history of Model Accuracy over the iterations\n",
    "\n",
    "?"
   ]
  },
  {
   "cell_type": "markdown",
   "metadata": {},
   "source": [
    "###  Create Predicted Masks \n",
    "\n",
    "This function uses `tf.argmax` in the axis of the number of classes to return the index with the largest value and merge the prediction into a single image:"
   ]
  },
  {
   "cell_type": "code",
   "execution_count": null,
   "metadata": {
    "id": "AvFEnJrHhmJo"
   },
   "outputs": [],
   "source": [
    "def create_mask(pred_mask):\n",
    "    pred_mask = tf.argmax(pred_mask, axis=-1)\n",
    "    pred_mask = pred_mask[..., tf.newaxis]\n",
    "    return pred_mask[0]"
   ]
  },
  {
   "cell_type": "markdown",
   "metadata": {},
   "source": [
    "### Show Predictions \n",
    "\n",
    "Check the predicted masks against the true mask and the original image."
   ]
  },
  {
   "cell_type": "code",
   "execution_count": null,
   "metadata": {
    "colab": {
     "base_uri": "https://localhost:8080/",
     "height": 446
    },
    "id": "5qODM_hRhfR5",
    "outputId": "78a90e2a-d5aa-4c39-e591-9d78e9526404"
   },
   "outputs": [],
   "source": [
    "for image, mask in train_dataset.take(3):\n",
    "            pred_mask = unet.predict(image)\n",
    "            display([image[0], mask[0], create_mask(pred_mask)])"
   ]
  },
  {
   "cell_type": "markdown",
   "metadata": {},
   "source": [
    "<font color='blue'>\n",
    "    \n",
    "**What you should remember**: \n",
    "\n",
    "* Semantic image segmentation predicts a label for every single pixel in an image\n",
    "* U-Net uses an equal number of convolutional blocks and transposed convolutions for downsampling and upsampling\n",
    "* Skip connections are used to prevent border pixel information loss and overfitting in U-Net"
   ]
  }
 ],
 "metadata": {
  "kernelspec": {
   "display_name": "Python 3 (ipykernel)",
   "language": "python",
   "name": "python3"
  },
  "language_info": {
   "codemirror_mode": {
    "name": "ipython",
    "version": 3
   },
   "file_extension": ".py",
   "mimetype": "text/x-python",
   "name": "python",
   "nbconvert_exporter": "python",
   "pygments_lexer": "ipython3",
   "version": "3.9.7"
  }
 },
 "nbformat": 4,
 "nbformat_minor": 1
}
