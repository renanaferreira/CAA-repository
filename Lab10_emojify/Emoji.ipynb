{
 "cells": [
  {
   "cell_type": "markdown",
   "metadata": {
    "id": "5bgPpghocFIa"
   },
   "source": [
    "# Lab:  Language model - Emojify \n",
    "\n",
    "In this assignment you will use word vector representations to build an Emojifier. \n",
    "🤩 💫 🔥\n",
    "\n",
    "You'll implement a model which inputs a sentence (such as \"Let's go see the baseball game tonight!\") and finds the most appropriate emoji to be used with this sentence (⚾️).\n",
    "\n",
    "1. You'll start with a baseline model (Emojifier-V1) using word embeddings.\n",
    "2. Then you will build a more sophisticated model (Emojifier-V2) that further incorporates an LSTM. "
   ]
  },
  {
   "cell_type": "code",
   "execution_count": null,
   "metadata": {
    "id": "lMZ9xg8MFHZU"
   },
   "outputs": [],
   "source": [
    "# pip install emoji \n",
    "\n",
    "import numpy as np\n",
    "from emo_utils import *\n",
    "import emoji\n",
    "import matplotlib.pyplot as plt\n",
    "from test_utils import *\n",
    "\n",
    "%matplotlib inline"
   ]
  },
  {
   "cell_type": "markdown",
   "metadata": {
    "id": "Av0PwZYscFIh"
   },
   "source": [
    "## PART 1 - Baseline Model: Emojifier-V1\n",
    "\n",
    "### 1.1 - Dataset EMOJISET\n",
    "\n",
    "You have a tiny dataset (X, Y) where:\n",
    "- X contains sentences(strings). At each row one sentence. \n",
    "- Y contains an integer label between 0 and 4 corresponding to an emoji for each sentence.\n",
    "\n",
    "Load the dataset. It is split between training (*train_emoji.csv*) and testing (*test.csv*) data sets.\n",
    "\n",
    "<img src=\"images/data_set.png\" style=\"width:700px;height:300px;\">\n",
    "<caption><center><font color='purple'><b>Figure 1</b>: EMOJISET - a classification problem with 5 classes. A few examples of sentences. </center></caption>"
   ]
  },
  {
   "cell_type": "code",
   "execution_count": null,
   "metadata": {
    "executionInfo": {
     "elapsed": 2671,
     "status": "ok",
     "timestamp": 1611738624467,
     "user": {
      "displayName": "Mubsi K",
      "photoUrl": "https://lh3.googleusercontent.com/a-/AOh14Gip7OjOkdNkKxKDyWEQAq1o8ccGN_HrBTGdqjgQ=s64",
      "userId": "08094225471505108399"
     },
     "user_tz": -300
    },
    "id": "OvuoZ8pWcFIi"
   },
   "outputs": [],
   "source": [
    "# function read_csv is part of emo_utils.py\n",
    "\n",
    "X_train, Y_train = read_csv('data/train_emoji.csv')\n",
    "\n",
    "X_test, Y_test = ?\n",
    "\n",
    "#Check the dimension of each variable. \n",
    "?\n",
    "\n",
    "# How many train examples (sentences) ? Print some of them.\n",
    "?\n",
    "\n",
    "# How many test examples (sentences) ? \n",
    "?\n"
   ]
  },
  {
   "cell_type": "code",
   "execution_count": null,
   "metadata": {
    "executionInfo": {
     "elapsed": 2046,
     "status": "ok",
     "timestamp": 1611738634135,
     "user": {
      "displayName": "Mubsi K",
      "photoUrl": "https://lh3.googleusercontent.com/a-/AOh14Gip7OjOkdNkKxKDyWEQAq1o8ccGN_HrBTGdqjgQ=s64",
      "userId": "08094225471505108399"
     },
     "user_tz": -300
    },
    "id": "DjAuDbxrcFIi"
   },
   "outputs": [],
   "source": [
    "# Guess what is maxLen ? \n",
    "maxLen = len(max(X_train, key=len).split())\n",
    "\n",
    "#How many words consists the longest sentence? \n",
    "?\n"
   ]
  },
  {
   "cell_type": "code",
   "execution_count": null,
   "metadata": {
    "colab": {
     "base_uri": "https://localhost:8080/"
    },
    "executionInfo": {
     "elapsed": 2058,
     "status": "ok",
     "timestamp": 1611738637381,
     "user": {
      "displayName": "Mubsi K",
      "photoUrl": "https://lh3.googleusercontent.com/a-/AOh14Gip7OjOkdNkKxKDyWEQAq1o8ccGN_HrBTGdqjgQ=s64",
      "userId": "08094225471505108399"
     },
     "user_tz": -300
    },
    "id": "vE1Zd2SMcFIj",
    "outputId": "49f45ed1-8f2f-4ea8-da44-4acb41731287",
    "scrolled": true
   },
   "outputs": [],
   "source": [
    "# Print 1st sentence from X_train & corresponding label from Y_train. \n",
    "idx = 1\n",
    "print(X_train[idx], label_to_emoji(Y_train[idx]))\n",
    "\n",
    "#Make a cicle for to see the first 10 sentences. "
   ]
  },
  {
   "cell_type": "markdown",
   "metadata": {
    "id": "tS_N2pMpcFIk"
   },
   "source": [
    "### 1.2 - Overview of the baseline model Emojifier-V1 \n",
    "\n",
    "<center>\n",
    "<img src=\"images/image_1.png\" style=\"width:900px;height:300px;\">\n",
    "    <caption><center><font color='purple'><b>Figure 2</b>: Baseline model (Emojifier-V1).</center></caption>\n",
    "</center></font>\n",
    "\n",
    "\n",
    "#### Inputs and Outputs\n",
    "* Input of the model is a string corresponding to a sentence (e.g. \"I love you\"). \n",
    "* Output is a vector of shape (1,5), indicating what is the probability of each emojis.\n",
    "* The (1,5) probability vector is passed to an argmax layer, which extracts the index of the emoji with the highest probability.\n",
    "\n",
    "#### One-hot Encoding\n",
    "* To get the labels into a format suitable for training a softmax classifier, convert $Y$ from its current shape  $(m, 1)$ into a \"one-hot representation\" $(m, 5)$, \n",
    "    * Each row is a one-hot vector giving the label of one example.\n",
    "    * `Y_oh` stands for \"Y-one-hot\" in the variable names `Y_oh_train` and `Y_oh_test`: "
   ]
  },
  {
   "cell_type": "code",
   "execution_count": null,
   "metadata": {
    "executionInfo": {
     "elapsed": 2619,
     "status": "ok",
     "timestamp": 1611738660835,
     "user": {
      "displayName": "Mubsi K",
      "photoUrl": "https://lh3.googleusercontent.com/a-/AOh14Gip7OjOkdNkKxKDyWEQAq1o8ccGN_HrBTGdqjgQ=s64",
      "userId": "08094225471505108399"
     },
     "user_tz": -300
    },
    "id": "RhRTRwVncFIm"
   },
   "outputs": [],
   "source": [
    "# Function convert_to_one_hot is part of emo_utils.py\n",
    "\n",
    "Y_oh_train = convert_to_one_hot(Y_train, C = 5)\n",
    "\n",
    "Y_oh_test = ?"
   ]
  },
  {
   "cell_type": "markdown",
   "metadata": {
    "id": "2w3GRkw2cFIo"
   },
   "source": [
    "See what `convert_to_one_hot()` did. Change `index` to print different values. "
   ]
  },
  {
   "cell_type": "code",
   "execution_count": null,
   "metadata": {
    "colab": {
     "base_uri": "https://localhost:8080/"
    },
    "executionInfo": {
     "elapsed": 2838,
     "status": "ok",
     "timestamp": 1611738667164,
     "user": {
      "displayName": "Mubsi K",
      "photoUrl": "https://lh3.googleusercontent.com/a-/AOh14Gip7OjOkdNkKxKDyWEQAq1o8ccGN_HrBTGdqjgQ=s64",
      "userId": "08094225471505108399"
     },
     "user_tz": -300
    },
    "id": "GlHYeuBIcFIo",
    "outputId": "c2b73f6a-9a15-4728-a8b4-7ba38b5372ed"
   },
   "outputs": [],
   "source": [
    "idx = 1\n",
    "\n",
    "print(X_train[idx])\n",
    "\n",
    "print(Y_train[idx])\n",
    "\n",
    "print(label_to_emoji(Y_train[idx]))\n",
    "\n",
    "print(Y_oh_train[idx])\n",
    "      "
   ]
  },
  {
   "cell_type": "markdown",
   "metadata": {
    "id": "KI8mJoafcFIp"
   },
   "source": [
    "<a name='1-3'></a>\n",
    "### 1.3 - Implementing Emojifier-V1\n",
    "\n",
    "As shown in Figure 2 (above), the first step is to:\n",
    "* Convert each word in the input sentence into their word vector representations.\n",
    "* Take an average of the word vectors. \n",
    "\n",
    "You will use pre-trained 50-dimensional GloVe embeddings. "
   ]
  },
  {
   "cell_type": "code",
   "execution_count": null,
   "metadata": {
    "executionInfo": {
     "elapsed": 8474,
     "status": "ok",
     "timestamp": 1611738705912,
     "user": {
      "displayName": "Mubsi K",
      "photoUrl": "https://lh3.googleusercontent.com/a-/AOh14Gip7OjOkdNkKxKDyWEQAq1o8ccGN_HrBTGdqjgQ=s64",
      "userId": "08094225471505108399"
     },
     "user_tz": -300
    },
    "id": "QXI3avt7cFIq"
   },
   "outputs": [],
   "source": [
    "word_to_index, index_to_word, word_to_vec_map = read_glove_vecs('data/glove.6B.50d.txt')"
   ]
  },
  {
   "cell_type": "markdown",
   "metadata": {
    "id": "9JM-0zg6cFIr"
   },
   "source": [
    "You've loaded:\n",
    "- `word_to_index`: dictionary mapping from words to their indices in the vocabulary \n",
    "    - (400,001 words, with the valid indices ranging from 0 to 400,000)\n",
    "- `index_to_word`: dictionary mapping from indices to their corresponding words in the vocabulary\n",
    "- `word_to_vec_map`: dictionary mapping words to their GloVe vector representation. (50-dimensional)"
   ]
  },
  {
   "cell_type": "code",
   "execution_count": null,
   "metadata": {
    "colab": {
     "base_uri": "https://localhost:8080/"
    },
    "executionInfo": {
     "elapsed": 1164,
     "status": "ok",
     "timestamp": 1611738710682,
     "user": {
      "displayName": "Mubsi K",
      "photoUrl": "https://lh3.googleusercontent.com/a-/AOh14Gip7OjOkdNkKxKDyWEQAq1o8ccGN_HrBTGdqjgQ=s64",
      "userId": "08094225471505108399"
     },
     "user_tz": -300
    },
    "id": "RB2ZN6ajcFIr",
    "outputId": "3c733016-edf8-417d-f589-828c2a9d8a09"
   },
   "outputs": [],
   "source": [
    "# What is the index of the word \"cucumber\" in the vocabulary ?\n",
    "?\n",
    "\n",
    "#What is the word in the vocabulary with index 289846 ?\n",
    "?"
   ]
  },
  {
   "cell_type": "markdown",
   "metadata": {
    "id": "wg9QpkR5cFIs"
   },
   "source": [
    "###  Implement `sentence_to_avg()` \n",
    "\n",
    "Here, two steps are carried out:\n",
    "\n",
    "1. Convert every sentence to lower-case, then split the sentence into a list of words. \n",
    "    * `X.lower()` and `X.split()` are useful.\n",
    "2. For each word in the sentence, access its GloVe representation.\n",
    "    * Then take the average of all of these word vectors."
   ]
  },
  {
   "cell_type": "code",
   "execution_count": null,
   "metadata": {
    "executionInfo": {
     "elapsed": 1943,
     "status": "ok",
     "timestamp": 1611738728468,
     "user": {
      "displayName": "Mubsi K",
      "photoUrl": "https://lh3.googleusercontent.com/a-/AOh14Gip7OjOkdNkKxKDyWEQAq1o8ccGN_HrBTGdqjgQ=s64",
      "userId": "08094225471505108399"
     },
     "user_tz": -300
    },
    "id": "buYjsIBecFIs"
   },
   "outputs": [],
   "source": [
    "def sentence_to_avg(sentence, word_to_vec_map):\n",
    "    \"\"\"\n",
    "    Converts a sentence into a list of words. \n",
    "    Extracts the GloVe representation of each word,\n",
    "    averages its value into a single vector encoding the meaning \n",
    "    of the complete sentence.\n",
    "    \n",
    "    Arguments:\n",
    "    sentence -- string, one training example from X\n",
    "    word_to_vec_map -- dictionary mapping every word in the vocabulary \n",
    "    into its 50-dimensional vector representation\n",
    "    \n",
    "    Returns:\n",
    "    avg -- average vector encoding information about the sentence, \n",
    "    numpy-array of shape (50,)\n",
    "    \"\"\"\n",
    "    # Get just one word contained in the word_to_vec_map. \n",
    "    any_word = list(word_to_vec_map.keys())[0]\n",
    "    \n",
    "# STEP 1: Split sentence into list of lower case words\n",
    "    words = sentence.lower().split()\n",
    "\n",
    "    # Initialize the average word vector, \n",
    "    # should has the same shape as the word vectors.\n",
    "    avg = np.zeros(word_to_vec_map[any_word].shape)\n",
    "    \n",
    "    # Initialize count to 0\n",
    "    count = 0\n",
    "    \n",
    "# STEP 2: Average the word vectors. \n",
    "# Make loop for over all words in the list \"words\"\n",
    "    for w in words:\n",
    "        # Check that word exists in word_to_vec_map\n",
    "        if w in list(word_to_vec_map.keys()):\n",
    "            avg = avg + word_to_vec_map[w]\n",
    "            # Increment count\n",
    "            count +=1\n",
    "          \n",
    "    if count > 0:\n",
    "        # Get the average, only if count > 0\n",
    "        avg = ?\n",
    "    \n",
    "  \n",
    "    return avg"
   ]
  },
  {
   "cell_type": "markdown",
   "metadata": {
    "id": "NPPv5gmucFIv"
   },
   "source": [
    "### 1.4 Implement the baseline model (Fig.2)\n",
    "\n",
    "After using `sentence_to_avg()` you need to:\n",
    "* Pass the average through forward propagation\n",
    "* Compute the cost\n",
    "* Backpropagate to update the softmax parameters\n",
    "\n",
    "* Equations to implement the forward pass & compute cross-entropy cost are below:\n",
    "* Variable $Y_{oh}$ is one-hot encoding of output labels. \n",
    "\n",
    "$$ z^{(i)} = W . avg^{(i)} + b$$\n",
    "\n",
    "$$ a^{(i)} = softmax(z^{(i)})$$\n",
    "\n",
    "$$ \\mathcal{L}^{(i)} = - \\sum_{k = 0}^{n_y - 1} Y_{oh,k}^{(i)} * log(a^{(i)}_k)$$"
   ]
  },
  {
   "cell_type": "code",
   "execution_count": null,
   "metadata": {
    "executionInfo": {
     "elapsed": 2322,
     "status": "ok",
     "timestamp": 1611738741724,
     "user": {
      "displayName": "Mubsi K",
      "photoUrl": "https://lh3.googleusercontent.com/a-/AOh14Gip7OjOkdNkKxKDyWEQAq1o8ccGN_HrBTGdqjgQ=s64",
      "userId": "08094225471505108399"
     },
     "user_tz": -300
    },
    "id": "O_BzrO-TcFIv"
   },
   "outputs": [],
   "source": [
    "def model(X, Y,word_to_vec_map,learning_rate = 0.01,num_iterations=100):\n",
    "    \"\"\"\n",
    "    Model to train word vector representations in numpy.\n",
    "    \n",
    "Arguments:\n",
    "X -- input data, numpy array of sentences (strings) of shape (m,)\n",
    "Y -- labels, numpy array of integers between 0 and 4 of shape (m,)\n",
    "   \n",
    "word_to_vec_map -- dictionary mapping every word in a vocabulary \n",
    "into its 50-dimensional vector representation\n",
    "    \n",
    "learning_rate --  for the stochastic gradient descent algorithm\n",
    "num_iterations -- number of iterations \n",
    "    \n",
    "Returns:\n",
    "    pred -- vector of predictions, numpy-array of shape (m, 1)\n",
    "    W -- weight matrix of the softmax layer, of shape (n_y, n_h)\n",
    "    b -- bias of the softmax layer, of shape (n_y,)\n",
    "    \"\"\"\n",
    "    \n",
    " # Get just one word contained in the word_to_vec_map. \n",
    "    any_word = ?\n",
    "        \n",
    "    # Initialize cost to 0\n",
    "    cost = ?\n",
    "    \n",
    "    # Number of training examples ?\n",
    "    m = ?     \n",
    "    \n",
    "    # Number of classes \n",
    "    n_y = len(np.unique(Y))    \n",
    "    \n",
    "    # dimensions of GloVe vectors \n",
    "    n_h = word_to_vec_map[any_word].shape[0] \n",
    "    \n",
    "    # Initialize parameters using Xavier initialization\n",
    "    W = np.random.randn(n_y, n_h) / np.sqrt(n_h)\n",
    "    b = np.zeros((n_y,))\n",
    "    \n",
    "    # Convert Y to one hot encoding with n_y classes\n",
    "    Y_oh = ?\n",
    "    \n",
    "    # Optimization loop\n",
    "    # Loop over the number of iterations\n",
    "    for t in range(num_iterations): \n",
    "        # Loop over the training examples\n",
    "        for i in range(m):        \n",
    "\n",
    "# Apply function sentence_to_avg to average the word vectors \n",
    "# from the i'th training example\n",
    "\n",
    "            avg = ?\n",
    "\n",
    "            # Forward propagate the avg through the softmax layer\n",
    "            z = np.add(np.dot(W,avg),b)\n",
    "            \n",
    "            # function softmax() is part of emo_utils.py \n",
    "            a = softmax(z) \n",
    "\n",
    "# Compute cost using one hot representation of i'th training label\n",
    "# and the output of the softmax (a)\n",
    "            cost = -np.sum(np.dot(Y_oh[i], np.log(a)))\n",
    "            \n",
    "            # Compute gradients \n",
    "            dz = a - Y_oh[i]\n",
    "            dW = np.dot(dz.reshape(n_y,1), avg.reshape(1, n_h))\n",
    "            db = dz\n",
    "\n",
    "            # Update parameters with Stochastic Gradient Descent\n",
    "            # (after processing a single training examples)\n",
    "            W = W - learning_rate * dW\n",
    "            b = b - learning_rate * db\n",
    "        \n",
    "        if t % 10 == 0:\n",
    "            print(\"Epoch: \" + str(t) + \" --- cost = \" + str(cost))\n",
    "            \n",
    "            #Function predict is part of emo_utils.py\n",
    "            pred = predict(X, Y, W, b, word_to_vec_map) \n",
    "\n",
    "    return pred, W, b"
   ]
  },
  {
   "cell_type": "markdown",
   "metadata": {
    "id": "KvdG05pgcFIw"
   },
   "source": [
    "Train the model & learn softmax parameters (W, b). **Training may take some time !!!**"
   ]
  },
  {
   "cell_type": "code",
   "execution_count": null,
   "metadata": {
    "colab": {
     "base_uri": "https://localhost:8080/"
    },
    "executionInfo": {
     "elapsed": 3817,
     "status": "ok",
     "timestamp": 1611738757775,
     "user": {
      "displayName": "Mubsi K",
      "photoUrl": "https://lh3.googleusercontent.com/a-/AOh14Gip7OjOkdNkKxKDyWEQAq1o8ccGN_HrBTGdqjgQ=s64",
      "userId": "08094225471505108399"
     },
     "user_tz": -300
    },
    "id": "umWTqRcpcFIw",
    "outputId": "7b74cb94-e98c-4936-98bc-693a3bb5f34e",
    "scrolled": true
   },
   "outputs": [],
   "source": [
    "np.random.seed(1)\n",
    "pred, W, b = model(X_train, Y_train, word_to_vec_map)"
   ]
  },
  {
   "cell_type": "markdown",
   "metadata": {
    "id": "O862gcUicFIx"
   },
   "source": [
    "### 1.5 Model Performance \n"
   ]
  },
  {
   "cell_type": "code",
   "execution_count": null,
   "metadata": {
    "colab": {
     "base_uri": "https://localhost:8080/"
    },
    "executionInfo": {
     "elapsed": 3704,
     "status": "ok",
     "timestamp": 1611738776291,
     "user": {
      "displayName": "Mubsi K",
      "photoUrl": "https://lh3.googleusercontent.com/a-/AOh14Gip7OjOkdNkKxKDyWEQAq1o8ccGN_HrBTGdqjgQ=s64",
      "userId": "08094225471505108399"
     },
     "user_tz": -300
    },
    "id": "yhb6CzhrcFIx",
    "outputId": "08d07fd0-55c2-4eff-d570-2562deb0570b",
    "scrolled": true
   },
   "outputs": [],
   "source": [
    "# Apply function predict to get train & test accuracy of the trained model\n",
    "\n",
    "# Training set: Accuracy arround 0.93 for 100 iterations\"\n",
    "pred_train = ?\n",
    "\n",
    "# Test set: Accuracy arround 0.84\n",
    "pred_test = ?"
   ]
  },
  {
   "cell_type": "code",
   "execution_count": null,
   "metadata": {},
   "outputs": [],
   "source": [
    "def predict_single(sentence, W=W, b=b, word_to_vec_map=word_to_vec_map):\n",
    "    \"\"\"\n",
    "    Given a sentence predict emojis.\n",
    "    \n",
    "    Arguments:\n",
    "    sentence -- input data containing a sentence\n",
    "    \n",
    "    Returns:\n",
    "    pred -- model predictions\n",
    "    \"\"\"\n",
    "\n",
    " # Get just one word contained in the word_to_vec_map. \n",
    "    any_word = ?\n",
    "    \n",
    "    # Dimension of Glove vectors   \n",
    "    n_h = ?\n",
    "        \n",
    "    # Split jth test example (sentence) into list of lower case words\n",
    "    words = ?\n",
    "\n",
    "    #  # Inicialize average words' vectors to zeros\n",
    "    avg = np.zeros((n_h,))\n",
    "    count = 0\n",
    "    for w in words:\n",
    "        if w in word_to_vec_map:\n",
    "            avg = avg + word_to_vec_map[w]\n",
    "            #Increment count\n",
    "            count = ?\n",
    "\n",
    "    if count > 0:\n",
    "        # Get the average, only if count > 0\n",
    "        avg = ?\n",
    "\n",
    "    # Forward propagation\n",
    "    Z = np.dot(W, avg) + b\n",
    "    A = softmax(Z)\n",
    "    pred = np.argmax(A)\n",
    "            \n",
    "    return pred"
   ]
  },
  {
   "cell_type": "code",
   "execution_count": null,
   "metadata": {},
   "outputs": [],
   "source": [
    "label_to_emoji(int(predict_single(\"I love you\")))"
   ]
  },
  {
   "cell_type": "markdown",
   "metadata": {
    "id": "hwmrm-aDcFIy"
   },
   "source": [
    "#### The Model Matches Emojis to Relevant Words\n",
    "In the training set, the algorithm saw the sentence \n",
    ">\"I love you.\" with the label ❤️. \n",
    "* The word \"adore\" does not appear in the training set, let's see what happens with the sentence \"I adore you.\""
   ]
  },
  {
   "cell_type": "code",
   "execution_count": null,
   "metadata": {
    "colab": {
     "base_uri": "https://localhost:8080/"
    },
    "executionInfo": {
     "elapsed": 1909,
     "status": "ok",
     "timestamp": 1611738785398,
     "user": {
      "displayName": "Mubsi K",
      "photoUrl": "https://lh3.googleusercontent.com/a-/AOh14Gip7OjOkdNkKxKDyWEQAq1o8ccGN_HrBTGdqjgQ=s64",
      "userId": "08094225471505108399"
     },
     "user_tz": -300
    },
    "id": "tvCl7fUvcFIz",
    "outputId": "a3913da3-85df-466d-dd8f-520245d495fc",
    "scrolled": true
   },
   "outputs": [],
   "source": [
    "X_my_sentences = np.array([\"i adore you\", \"i love you\", \"funny lol\", \n",
    "\"lets play with a ball\", \"food is ready\", \"not feeling happy\", \n",
    "\"This movie is not good and not enjoyable\"])\n",
    "\n",
    "Y_my_labels = np.array([[0], [0], [2], [1], [4],[3]])\n",
    "\n",
    "pred = predict(X_my_sentences, Y_my_labels , W, b, word_to_vec_map)\n",
    "print_predictions(X_my_sentences, pred)"
   ]
  },
  {
   "cell_type": "markdown",
   "metadata": {
    "id": "ZyC-BGqKcFI0"
   },
   "source": [
    "Because *adore* has a similar embedding as *love*, the algorithm has generalized correctly even it has never seen before *adore*. \n",
    "Words such as *heart*, *dear*, *beloved* or *adore* have embedding vectors similar to *love*. \n",
    "\n",
    "**This algorithm ignores word ordering**, so it may not understand correctly phrases like \"not happy\" or \"This movie is not good and not enjoyable\". \n",
    "\n",
    "**Confusion Matrix** can help understand which classes are more difficult for the model. "
   ]
  },
  {
   "cell_type": "code",
   "execution_count": null,
   "metadata": {},
   "outputs": [],
   "source": [
    "# Print the confusion matrix for train and test data \n",
    "confusion_matrix(Y_test, pred_test)"
   ]
  },
  {
   "cell_type": "markdown",
   "metadata": {
    "id": "Zm2o8SQIcFI1"
   },
   "source": [
    "<font color='blue'><b>What you should remember:</b>\n",
    "- Even with only 132 training examples, you can get a reasonably good model for Emojifying. This is due to the generalization power of the word vectors. \n",
    "- Emojify-V1 will perform poorly on sentences such as \"This movie is not good and not enjoyable\" It doesn't understand combinations of words.\n",
    "It just averages all the words' embedding vectors together, without considering the ordering of words. \n",
    "</font>\n",
    "    \n",
    "The next algorithm considers the ordering of words."
   ]
  },
  {
   "cell_type": "markdown",
   "metadata": {
    "id": "BEeTqpjlcFI2"
   },
   "source": [
    "## PART 2 - Emojifier-V2: Using LSTMs\n",
    "\n",
    "Here, LSTM model takes word **sequences** as input! This model is able to account for word ordering. \n",
    "Emojifier-V2 will continue to use pre-trained word embeddings to represent words. You'll feed word embeddings into an LSTM, and it will learn to predict the most appropriate emoji. "
   ]
  },
  {
   "cell_type": "code",
   "execution_count": null,
   "metadata": {
    "executionInfo": {
     "elapsed": 2501,
     "status": "ok",
     "timestamp": 1611738953388,
     "user": {
      "displayName": "Mubsi K",
      "photoUrl": "https://lh3.googleusercontent.com/a-/AOh14Gip7OjOkdNkKxKDyWEQAq1o8ccGN_HrBTGdqjgQ=s64",
      "userId": "08094225471505108399"
     },
     "user_tz": -300
    },
    "id": "uZ-fy9fYcFI3"
   },
   "outputs": [],
   "source": [
    "import tensorflow\n",
    "from tensorflow.keras.models import Model\n",
    "from tensorflow.keras.layers import Dense, Input, Dropout, LSTM, Activation\n",
    "from tensorflow.keras.layers import Embedding\n",
    "from tensorflow.keras.preprocessing import sequence\n",
    "from tensorflow.keras.initializers import glorot_uniform\n"
   ]
  },
  {
   "cell_type": "markdown",
   "metadata": {
    "id": "P7LJvriXcFI3"
   },
   "source": [
    "### 2.1 - Model Overview (Emojifier-v2)\n",
    "\n",
    "<img src=\"images/emojifier-v2.png\" style=\"width:700px;height:400px;\"> <br>\n",
    "<caption><center><font color='purple'><b>Figure 3</b>: Emojifier-V2. A 2-layer LSTM sequence classifier. </center></caption>"
   ]
  },
  {
   "cell_type": "markdown",
   "metadata": {
    "id": "-3W3WTbpcFI3"
   },
   "source": [
    "### 2.2  Padding Sequences of Varying Length\n",
    "\n",
    "Here we want to train Keras using mini-batches. Most deep learning frameworks require that all sequences have the **same length**. Common solution to handle sequences of **different length** is to use padding.  Specifically:\n",
    "\n",
    "    * Set a maximum sequence length\n",
    "    * Pad all sequences to have the same length. \n",
    "    \n",
    "#### Example of Padding:\n",
    "* Given a maximum sequence length of 20, you could pad every sentence with \"0\"s so that each input sentence is of length 20. \n",
    "* Thus, the sentence \"I love you\" would be represented as $(e_{I}, e_{love}, e_{you}, \\vec{0}, \\vec{0}, \\ldots, \\vec{0})$. \n",
    "* In this example, any sentences longer than 20 words would have to be truncated. \n",
    "* One way to choose the max sequence length is to pick the length of the longest sentence in the training set. "
   ]
  },
  {
   "cell_type": "markdown",
   "metadata": {
    "id": "QuwbNWS0cFI4"
   },
   "source": [
    "### 2.3  Embedding Layer\n",
    "\n",
    "In Keras, the embedding matrix is represented as a \"layer.\"\n",
    "\n",
    "* The embedding matrix maps word indices to embedding vectors.\n",
    "    * The word indices are positive integers.\n",
    "    * The embedding vectors are dense vectors of fixed size.\n",
    "    * A \"dense\" vector is the opposite of a sparse vector. It means that most of its values are non-zero.  As a counter-example, a one-hot encoded vector is not \"dense.\"\n",
    "* The embedding matrix can be derived in two ways:\n",
    "    * Training a model to derive the embeddings from scratch. \n",
    "    * Using a pretrained embedding.\n",
    "    \n",
    "#### Using and Updating Pre-trained Embeddings \n",
    "\n",
    "[Embedding()](https://www.tensorflow.org/api_docs/python/tf/keras/layers/Embedding) layer in Keras\n",
    "\n",
    "* Initialize the Embedding layer with GloVe 50-dimensional vectors. \n",
    "* Keras allows you to either train or leave this layer fixed. Because the training set is small, you'll leave GloVe embeddings fixed instead of updating them."
   ]
  },
  {
   "cell_type": "markdown",
   "metadata": {
    "id": "zhyVzuThcFI4"
   },
   "source": [
    "#### Inputs and Outputs to the Embedding Layer\n",
    "\n",
    "* The `Embedding()` layer's input is an integer matrix of size **(batch size, max input length)**. \n",
    "    * This input corresponds to sentences converted into lists of indices (integers).\n",
    "    * The largest integer (the highest word index) in the input should be no larger than the vocabulary size.\n",
    "* The embedding layer outputs an array of shape (batch size, max input length, dimension of word vectors).\n",
    "\n",
    "* The figure shows the propagation of two example sentences through the embedding layer. \n",
    "    * Both examples have been zero-padded to a length of `max_len=5`.\n",
    "    * The word embeddings are 50 units in length.\n",
    "    * The final dimension of the representation is  `(2,max_len,50)`. \n",
    "\n",
    "<img src=\"images/embedding1.png\" style=\"width:700px;height:250px;\">\n",
    "<caption><center><font color='purple'><b>Figure 4</b>: Embedding layer</center></caption>"
   ]
  },
  {
   "cell_type": "markdown",
   "metadata": {
    "id": "KnoTtNWBcFI5"
   },
   "source": [
    "#### Prepare the Input Sentences =>  Implement `sentences_to_indices`\n",
    "\n",
    "This function processes an array of sentences X and returns inputs to the embedding layer:\n",
    "\n",
    "* Convert each training sentences into a list of indices (the indices correspond to each word in the sentence)\n",
    "* Zero-pad all these lists so that their length is the length of the longest sentence."
   ]
  },
  {
   "cell_type": "code",
   "execution_count": null,
   "metadata": {
    "colab": {
     "base_uri": "https://localhost:8080/"
    },
    "executionInfo": {
     "elapsed": 2291,
     "status": "ok",
     "timestamp": 1611738965576,
     "user": {
      "displayName": "Mubsi K",
      "photoUrl": "https://lh3.googleusercontent.com/a-/AOh14Gip7OjOkdNkKxKDyWEQAq1o8ccGN_HrBTGdqjgQ=s64",
      "userId": "08094225471505108399"
     },
     "user_tz": -300
    },
    "id": "8cMm64iWcFI5",
    "outputId": "f82cb8b2-991c-44ae-9c81-7a5235edeea2"
   },
   "outputs": [],
   "source": [
    "for idx, val in enumerate([\"I\", \"like\", \"learning\"]):\n",
    "    print(idx, val)"
   ]
  },
  {
   "cell_type": "code",
   "execution_count": null,
   "metadata": {
    "executionInfo": {
     "elapsed": 2881,
     "status": "ok",
     "timestamp": 1611738972334,
     "user": {
      "displayName": "Mubsi K",
      "photoUrl": "https://lh3.googleusercontent.com/a-/AOh14Gip7OjOkdNkKxKDyWEQAq1o8ccGN_HrBTGdqjgQ=s64",
      "userId": "08094225471505108399"
     },
     "user_tz": -300
    },
    "id": "Z0SixlIwcFI5"
   },
   "outputs": [],
   "source": [
    "def sentences_to_indices(X, word_to_index, max_len):\n",
    "    \"\"\"\n",
    "    Converts an array of sentences (strings) into an array of indices \n",
    "    corresponding to words in the sentences.\n",
    "    The output shape should be such that it can be given to\n",
    "    `Embedding()` \n",
    "    \n",
    "    Arguments:\n",
    "    X -- array of sentences (strings), of shape (m, 1)\n",
    "    word_to_index -- dictionary containing each word mapped to its index\n",
    "    max_len -- maximum number of words in a sentence.\n",
    "    Every sentence in X is no longer than this. \n",
    "    \n",
    "    Returns:\n",
    "    X_indices -- array of indices corresponding to words in the \n",
    "    sentences from X, of shape (m, max_len)\n",
    "    \"\"\"\n",
    "    \n",
    "    # number of training examples\n",
    "    m = ?   \n",
    "    \n",
    "# Initialize X_indices as a numpy matrix of zeros and the correct shape\n",
    "    X_indices = ?\n",
    "    \n",
    "     # loop over training examples\n",
    "    for i in range(m):        \n",
    "        \n",
    "# Convert ith training sentence in lower case and split is into words. \n",
    "# You should get a list of words.\n",
    "        sentence_words = X[i].lower().split()\n",
    "        \n",
    "        # Initialize j \n",
    "        j = 0\n",
    "        \n",
    "        # Loop over the words of sentence_words\n",
    "\n",
    "        for w in sentence_words:\n",
    "            # if w exists in the word_to_index dictionary\n",
    "            if w in word_to_index:\n",
    "# Set the (i,j)th entry of X_indices to the index of the correct word.\n",
    "                X_indices[i, j] = word_to_index[w]\n",
    "                # Increment j\n",
    "                j = ?\n",
    "\n",
    "    \n",
    "    return X_indices"
   ]
  },
  {
   "cell_type": "code",
   "execution_count": null,
   "metadata": {
    "colab": {
     "base_uri": "https://localhost:8080/"
    },
    "executionInfo": {
     "elapsed": 1992,
     "status": "ok",
     "timestamp": 1611738982161,
     "user": {
      "displayName": "Mubsi K",
      "photoUrl": "https://lh3.googleusercontent.com/a-/AOh14Gip7OjOkdNkKxKDyWEQAq1o8ccGN_HrBTGdqjgQ=s64",
      "userId": "08094225471505108399"
     },
     "user_tz": -300
    },
    "id": "oBL1PMOCcFI6",
    "outputId": "6781359c-bafd-4ab5-a477-f8a5a86ea219"
   },
   "outputs": [],
   "source": [
    "# Check what function `sentences_to_indices()` does for the \n",
    "# sentences in X1. Assume max number of words in a sentence =5\n",
    "\n",
    "X1 = np.array([\"funny lol\", \"lets play baseball\", \"food is ready for you\"])\n",
    "\n",
    "X1_indices = ?\n"
   ]
  },
  {
   "cell_type": "markdown",
   "metadata": {
    "id": "0OJPAEM5cFI6"
   },
   "source": [
    "#### Build Embedding Layer\n",
    "\n",
    "Now you'll build the `Embedding()` layer in Keras, using pre-trained word vectors. \n",
    "\n",
    "* The embedding layer takes as input a list of word indices.\n",
    "    * `sentences_to_indices()` creates these word indices.\n",
    "* The embedding layer will return the word embeddings for a sentence. \n",
    "\n",
    "###  Implement `pretrained_embedding_layer()`:\n",
    "\n",
    "1. Initialize the embedding matrix as a numpy array of zeros.\n",
    "    * The embedding matrix has a row for each unique word in the vocabulary.\n",
    "        * There is one additional row to handle \"unknown\" words.\n",
    "        * So vocab_size is the number of unique words plus one.\n",
    "    * Each row will store the vector representation of one word. \n",
    "        * For example, one row may be 50 positions long if using GloVe word vectors.\n",
    "    * In the code below, `emb_dim` represents the length of a word embedding.\n",
    "2. Fill in each row of the embedding matrix with the vector representation of a word\n",
    "    * Each word in `word_to_index` is a string.\n",
    "    * `word_to_vec_map` is a dictionary where the keys are strings and the values are the word vectors.\n",
    "3. Define the Keras embedding layer. \n",
    "    * Use [Embedding()](https://www.tensorflow.org/api_docs/python/tf/keras/layers/Embedding). \n",
    "    * The input dimension is equal to the vocabulary length (number of unique words plus one).\n",
    "    * The output dimension is equal to the number of positions in a word embedding.\n",
    "    * Make this layer's embeddings fixed.\n",
    "        * If you were to set `trainable = True`, then it will allow the optimization algorithm to modify the values of the word embeddings.\n",
    "        * In this case, you don't want the model to modify the word embeddings.\n",
    "4. Set the embedding weights to be equal to the embedding matrix."
   ]
  },
  {
   "cell_type": "code",
   "execution_count": null,
   "metadata": {
    "executionInfo": {
     "elapsed": 2160,
     "status": "ok",
     "timestamp": 1611738992486,
     "user": {
      "displayName": "Mubsi K",
      "photoUrl": "https://lh3.googleusercontent.com/a-/AOh14Gip7OjOkdNkKxKDyWEQAq1o8ccGN_HrBTGdqjgQ=s64",
      "userId": "08094225471505108399"
     },
     "user_tz": -300
    },
    "id": "XBlEpiVkcFI7"
   },
   "outputs": [],
   "source": [
    "def pretrained_embedding_layer(word_to_vec_map, word_to_index):\n",
    "    \"\"\"\n",
    "    Creates a Keras Embedding() layer and loads in pre-trained \n",
    "    GloVe 50-dimensional vectors.\n",
    "    \n",
    "    Arguments:\n",
    "    word_to_vec_map -- dictionary mapping words to their GloVe vector \n",
    "    representation.\n",
    "    word_to_index -- dictionary mapping from words to their indices in\n",
    "    the vocabulary (400,001 words)\n",
    "\n",
    "    Returns:\n",
    "    embedding_layer -- pretrained layer\n",
    "    \"\"\"\n",
    "    # add 1 to to handle \"unknown\" words.\n",
    "    vocab_size = len(word_to_index) + 1  \n",
    "    \n",
    "    # Get just one word contained in the word_to_vec_map. \n",
    "    any_word = ?\n",
    "    \n",
    "    # define dimensionality of GloVe word vectors (= 50)\n",
    "     # dimensions of GloVe vectors \n",
    "    emb_dim = ?\n",
    "      \n",
    "    # Step 1\n",
    "    # Initialize the embedding matrix as a numpy array of zeros\n",
    "    # with shape [vocab_size,emb_dim]\n",
    "    emb_matrix = ?\n",
    "    \n",
    "    # Step 2\n",
    "    # Set each row \"idx\" of the embedding matrix to be \n",
    "# the word vector representation of the idx'th word of the vocabulary\n",
    "    for word, idx in word_to_index.items():\n",
    "        emb_matrix[idx, :] = word_to_vec_map[word]\n",
    "\n",
    "    # Step 3\n",
    "    # Define Keras embedding layer with the correct input and output \n",
    "    #sizes. Make it non-trainable.\n",
    "    embedding_layer = Embedding(vocab_size, emb_dim ,trainable = False)\n",
    "\n",
    "    # Step 4\n",
    "# Build the embedding layer, it is required before setting the weights \n",
    "# of the embedding layer. \n",
    "    embedding_layer.build((None,)) \n",
    "    \n",
    "# Set the weights of the embedding layer to the embedding matrix. \n",
    "# The layer is now pretrained.\n",
    "    embedding_layer.set_weights([emb_matrix])\n",
    "    \n",
    "    return embedding_layer"
   ]
  },
  {
   "cell_type": "code",
   "execution_count": null,
   "metadata": {
    "colab": {
     "base_uri": "https://localhost:8080/"
    },
    "executionInfo": {
     "elapsed": 6068,
     "status": "ok",
     "timestamp": 1611739002394,
     "user": {
      "displayName": "Mubsi K",
      "photoUrl": "https://lh3.googleusercontent.com/a-/AOh14Gip7OjOkdNkKxKDyWEQAq1o8ccGN_HrBTGdqjgQ=s64",
      "userId": "08094225471505108399"
     },
     "user_tz": -300
    },
    "id": "Gn4iGb0AcFI7",
    "outputId": "5bab44b5-bf23-4c6e-f891-429e8be34981"
   },
   "outputs": [],
   "source": [
    "embedding_layer = pretrained_embedding_layer(word_to_vec_map, word_to_index)\n",
    "print(\"weights[0][1][1] =\", embedding_layer.get_weights()[0][1][1])\n",
    "print(\"Input_dim\", embedding_layer.input_dim)\n",
    "print(\"Output_dim\",embedding_layer.output_dim)"
   ]
  },
  {
   "cell_type": "markdown",
   "metadata": {
    "id": "uEsWnZ_2cFI7"
   },
   "source": [
    "### 2.4 - Implement `Emojify_V2()`\n",
    "\n",
    "Now you will build Emojifier-V2 model, in which you feed the embedding layer's output to an LSTM network! `Emojify_V2()`\n",
    "function builds a Keras graph of the architecture shown in Fig.3.\n",
    "\n",
    "* The model takes as input an array of sentences of shape (`m`, `max_len`, ) defined by `input_shape`. \n",
    "* The model outputs a softmax probability vector of shape (`m`, `C = 5`). \n",
    "\n",
    "* Keras layers:\n",
    "    * [Input()](https://www.tensorflow.org/api_docs/python/tf/keras/Input)\n",
    "        * Set the `shape` and `dtype` parameters.\n",
    "        * The inputs are integers, so you can specify the data type as a string, 'int32'.\n",
    "    * [LSTM()](https://www.tensorflow.org/api_docs/python/tf/keras/layers/LSTM)\n",
    "        * Set the `units` and `return_sequences` parameters.\n",
    "    * [Dropout()](https://www.tensorflow.org/api_docs/python/tf/keras/layers/Dropout)\n",
    "        * Set the `rate` parameter.\n",
    "    * [Dense()](https://www.tensorflow.org/api_docs/python/tf/keras/layers/Dense)\n",
    "        * Set the `units`, \n",
    "    * [Activation()](https://www.tensorflow.org/api_docs/python/tf/keras/layers/Activation)\n",
    "        * You can pass in the activation of your choice as a lowercase string.\n",
    "    * [Model()](https://www.tensorflow.org/api_docs/python/tf/keras/Model)\n",
    "        * Set `inputs` and `outputs`.\n",
    "\n",
    "* Here is some sample code: \n",
    "```Python\n",
    "raw_inputs = Input(shape=(maxLen,), dtype='int32')\n",
    "preprocessed_inputs = ... # some pre-processing\n",
    "X = LSTM(units = ..., return_sequences= ...)(processed_inputs)\n",
    "X = Dropout(rate = ..., )(X)\n",
    "...\n",
    "X = Dense(units = ...)(X)\n",
    "X = Activation(...)(X)\n",
    "model = Model(inputs=..., outputs=...)\n",
    "...\n",
    "```"
   ]
  },
  {
   "cell_type": "code",
   "execution_count": null,
   "metadata": {
    "executionInfo": {
     "elapsed": 3214,
     "status": "ok",
     "timestamp": 1611739012958,
     "user": {
      "displayName": "Mubsi K",
      "photoUrl": "https://lh3.googleusercontent.com/a-/AOh14Gip7OjOkdNkKxKDyWEQAq1o8ccGN_HrBTGdqjgQ=s64",
      "userId": "08094225471505108399"
     },
     "user_tz": -300
    },
    "id": "Pb2ugsSUcFI7"
   },
   "outputs": [],
   "source": [
    "def Emojify_V2(input_shape, word_to_vec_map, word_to_index):\n",
    "    \"\"\"\n",
    "    Function creating the Emojify-v2 model's graph.\n",
    "    \n",
    "    Arguments:\n",
    "    input_shape -- shape of the input, usually (max_len,)\n",
    "    word_to_vec_map -- dictionary mapping every word in a vocabulary \n",
    "    into its 50-dimensional vector representation\n",
    "    word_to_index -- dictionary mapping from words to their indices in \n",
    "    the vocabulary (400,001 words)\n",
    "\n",
    "    Returns:\n",
    "    model -- a model instance in Keras\n",
    "    \"\"\"\n",
    "    \n",
    "    # Define sentence_indices as the input of the graph.\n",
    "    # It should be of shape input_shape and dtype 'int32' \n",
    "    # (as it contains indices, which are integers).\n",
    "    sentence_indices = Input(shape=input_shape,dtype='int32')\n",
    "    \n",
    "    # Create the embedding layer pretrained with GloVe Vectors \n",
    "    embedding_layer = ?\n",
    "    \n",
    "    # Propagate sentence_indices through the embedding layer\n",
    "     embeddings = embedding_layer(sentence_indices)   \n",
    "    \n",
    "# Propagate embeddings through LSTM layer with 128-dim. hidden state\n",
    "# Returned output is a batch of sequences, set return_sequences = True\n",
    "# If return_sequences = False, LSTM returns only last output in the sequence\n",
    "    \n",
    "    X = LSTM(units=128,return_sequences = True)(embeddings)\n",
    "    \n",
    "    # Add dropout with a probability of 0.5\n",
    "    X = ?\n",
    "    \n",
    "# Propagate X trough another LSTM layer with 128-dim. hidden state\n",
    "    \n",
    "# Returned output should be single hidden state, not batch of sequences.\n",
    "    X = LSTM(units=128,return_sequences = False)(X)\n",
    "    \n",
    "    # Add dropout with a probability of 0.5\n",
    "    X = ?\n",
    "    \n",
    "    # Propagate X through a Dense layer with 5 units\n",
    "    X = ?\n",
    "    \n",
    "    # Add a softmax activation\n",
    "    X = ?\n",
    "    \n",
    "    # Create Model instance which converts sentence_indices into X.\n",
    "    model = Model(inputs=sentence_indices,outputs=X)\n",
    "    \n",
    "    return model"
   ]
  },
  {
   "cell_type": "markdown",
   "metadata": {
    "id": "-VamRAKtcFI8"
   },
   "source": [
    "Run the following cell to create your model and check its summary. \n",
    "\n",
    "* Because all sentences in the dataset are less than 10 words, `max_len = 10` was chosen.  \n",
    "* You should see that your architecture uses 20,223,927 parameters, of which 20,000,050 (the word embeddings) are non-trainable, with the remaining 223,877 being trainable. \n",
    "* Because your vocabulary size has 400,001 words (with valid indices from 0 to 400,000) there are 400,001\\*50 = 20,000,050 non-trainable parameters. "
   ]
  },
  {
   "cell_type": "code",
   "execution_count": null,
   "metadata": {
    "colab": {
     "base_uri": "https://localhost:8080/"
    },
    "executionInfo": {
     "elapsed": 3127,
     "status": "ok",
     "timestamp": 1611739019596,
     "user": {
      "displayName": "Mubsi K",
      "photoUrl": "https://lh3.googleusercontent.com/a-/AOh14Gip7OjOkdNkKxKDyWEQAq1o8ccGN_HrBTGdqjgQ=s64",
      "userId": "08094225471505108399"
     },
     "user_tz": -300
    },
    "id": "8fLhXJ9ucFI8",
    "outputId": "02d98359-a43b-4780-bb17-3d36e060aa86",
    "scrolled": false
   },
   "outputs": [],
   "source": [
    "model = ?\n",
    "model.summary()"
   ]
  },
  {
   "cell_type": "markdown",
   "metadata": {
    "id": "mKIsZqqicFI8"
   },
   "source": [
    "#### Compile the Model \n",
    "\n",
    "Use `categorical_crossentropy` loss, `adam` optimizer and `['accuracy']` metrics:"
   ]
  },
  {
   "cell_type": "code",
   "execution_count": null,
   "metadata": {
    "executionInfo": {
     "elapsed": 2041,
     "status": "ok",
     "timestamp": 1611739024847,
     "user": {
      "displayName": "Mubsi K",
      "photoUrl": "https://lh3.googleusercontent.com/a-/AOh14Gip7OjOkdNkKxKDyWEQAq1o8ccGN_HrBTGdqjgQ=s64",
      "userId": "08094225471505108399"
     },
     "user_tz": -300
    },
    "id": "aMf79f45cFI9"
   },
   "outputs": [],
   "source": [
    "?"
   ]
  },
  {
   "cell_type": "markdown",
   "metadata": {
    "id": "mX6NORy7cFI9"
   },
   "source": [
    "### 2.5 - Train the Model \n",
    "\n",
    "Emojifier-V2 `model` takes as input an array of shape (`m`, `max_len`) and outputs probability vectors of shape (`m`, `number of classes`). \n",
    "\n",
    "Use function *sentences_to_indices* to convert X_train (array of sentences as strings) to X_train_indices (array of sentences as list of word indices). The same for X_test."
   ]
  },
  {
   "cell_type": "code",
   "execution_count": null,
   "metadata": {
    "executionInfo": {
     "elapsed": 2284,
     "status": "ok",
     "timestamp": 1611739029525,
     "user": {
      "displayName": "Mubsi K",
      "photoUrl": "https://lh3.googleusercontent.com/a-/AOh14Gip7OjOkdNkKxKDyWEQAq1o8ccGN_HrBTGdqjgQ=s64",
      "userId": "08094225471505108399"
     },
     "user_tz": -300
    },
    "id": "UgsBnWQqcFI-"
   },
   "outputs": [],
   "source": [
    "X_train_indices = ?\n",
    "X_test_indices = ?"
   ]
  },
  {
   "cell_type": "markdown",
   "metadata": {
    "id": "9fMyo0vqcFI_"
   },
   "source": [
    "Fit Keras model on `X_train_indices` & `Y_oh_train`, for `epochs = 50`, `batch_size = 32`, shuffle=True. "
   ]
  },
  {
   "cell_type": "code",
   "execution_count": null,
   "metadata": {
    "id": "LtFpvyJicFI_",
    "scrolled": true
   },
   "outputs": [],
   "source": [
    "?"
   ]
  },
  {
   "cell_type": "markdown",
   "metadata": {
    "id": "gR2QJZAkcFJA"
   },
   "source": [
    "The model should perform around **90% to 100% accuracy** on the training set. Exact model accuracy may vary. \n",
    "Evaluate the model on test set: "
   ]
  },
  {
   "cell_type": "code",
   "execution_count": null,
   "metadata": {
    "colab": {
     "base_uri": "https://localhost:8080/"
    },
    "executionInfo": {
     "elapsed": 2962,
     "status": "ok",
     "timestamp": 1611739058762,
     "user": {
      "displayName": "Mubsi K",
      "photoUrl": "https://lh3.googleusercontent.com/a-/AOh14Gip7OjOkdNkKxKDyWEQAq1o8ccGN_HrBTGdqjgQ=s64",
      "userId": "08094225471505108399"
     },
     "user_tz": -300
    },
    "id": "sIbcdVibcFJA",
    "outputId": "65b06e6c-415e-4038-c6fd-3839b3fd39f1",
    "scrolled": true
   },
   "outputs": [],
   "source": [
    "loss, acc = model.evaluate(X_test_indices, Y_test_oh)\n",
    "\n",
    "print(\"Test accuracy = ?\")"
   ]
  },
  {
   "cell_type": "markdown",
   "metadata": {
    "id": "2d6y4sJbcFJA"
   },
   "source": [
    "You should get a test accuracy between 80% and 95%. Run the cell below to see the mislabelled examples: "
   ]
  },
  {
   "cell_type": "code",
   "execution_count": null,
   "metadata": {
    "colab": {
     "base_uri": "https://localhost:8080/"
    },
    "executionInfo": {
     "elapsed": 1779,
     "status": "ok",
     "timestamp": 1611739122633,
     "user": {
      "displayName": "Mubsi K",
      "photoUrl": "https://lh3.googleusercontent.com/a-/AOh14Gip7OjOkdNkKxKDyWEQAq1o8ccGN_HrBTGdqjgQ=s64",
      "userId": "08094225471505108399"
     },
     "user_tz": -300
    },
    "id": "mjMyEGmYcFJC",
    "outputId": "0e87d217-d501-40d1-a6c7-71d567643d52",
    "scrolled": true
   },
   "outputs": [],
   "source": [
    "C = 5\n",
    "y_test_oh = np.eye(C)[Y_test.reshape(-1)]\n",
    "X_test_indices = sentences_to_indices(X_test, word_to_index, maxLen)\n",
    "pred = model.predict(X_test_indices)\n",
    "for i in range(len(X_test)):\n",
    "    x = X_test_indices\n",
    "    num = np.argmax(pred[i])\n",
    "    if(num != Y_test[i]):\n",
    "        print('Expected emoji:'+ label_to_emoji(Y_test[i]) + ' prediction: '+ X_test[i] + label_to_emoji(num).strip())"
   ]
  },
  {
   "cell_type": "code",
   "execution_count": null,
   "metadata": {
    "colab": {
     "base_uri": "https://localhost:8080/"
    },
    "executionInfo": {
     "elapsed": 1780,
     "status": "ok",
     "timestamp": 1611739204630,
     "user": {
      "displayName": "Mubsi K",
      "photoUrl": "https://lh3.googleusercontent.com/a-/AOh14Gip7OjOkdNkKxKDyWEQAq1o8ccGN_HrBTGdqjgQ=s64",
      "userId": "08094225471505108399"
     },
     "user_tz": -300
    },
    "id": "wEgCsIE7cFJE",
    "outputId": "28d6942b-ad6b-461e-9904-191430145d85"
   },
   "outputs": [],
   "source": [
    "#Test the model with the sentence \"not feeling happy\" and other examples\n",
    "\n",
    "?\n"
   ]
  },
  {
   "cell_type": "markdown",
   "metadata": {
    "id": "tT53ibgFcFJE"
   },
   "source": [
    "#### LSTM Version Accounts for Word Order\n",
    "Emojify-V1 model was uncorrect for \"not feeling happy\", Emojify-V2 got it probably right! Emojify-V2 model still isn't very robust at understanding negation (such as \"not happy\").  This is because the training set is small and doesn't have a lot of examples of negation."
   ]
  },
  {
   "cell_type": "markdown",
   "metadata": {
    "id": "GgoBXYn3cFJE"
   },
   "source": [
    "<font color='blue'><b>What you should remember</b>:\n",
    "- For an NLP task where the training set is small, word embeddings may improve the algorithm. \n",
    "- Word embeddings allow the model to work on words in the test set that may not appear in the training set. \n",
    "- Training sequence models in Keras (and in most other deep learning frameworks) requires a few important details:\n",
    "    - To use mini-batches, the sequences need to be **padded** so that all the examples in a mini-batch have the **same length**. \n",
    "    - An `Embedding()` layer can be initialized with pretrained values. \n",
    "        - These values can be either fixed or trained further on your dataset. \n",
    "        - If however your labeled dataset is small, it's usually not worth trying to train a large pre-trained set of embeddings.   \n",
    "    - `Dropout()` right after `LSTM()` regularizes the network. "
   ]
  },
  {
   "cell_type": "code",
   "execution_count": null,
   "metadata": {},
   "outputs": [],
   "source": []
  }
 ],
 "metadata": {
  "accelerator": "GPU",
  "colab": {
   "collapsed_sections": [
    "zhyVzuThcFI4",
    "LUSzrFkYcFJF"
   ],
   "name": "Solution_Emojify_v2a.ipynb",
   "provenance": []
  },
  "coursera": {
   "schema_names": [
    "DLSC5W2-A2"
   ]
  },
  "kernelspec": {
   "display_name": "Python 3 (ipykernel)",
   "language": "python",
   "name": "python3"
  },
  "language_info": {
   "codemirror_mode": {
    "name": "ipython",
    "version": 3
   },
   "file_extension": ".py",
   "mimetype": "text/x-python",
   "name": "python",
   "nbconvert_exporter": "python",
   "pygments_lexer": "ipython3",
   "version": "3.9.7"
  }
 },
 "nbformat": 4,
 "nbformat_minor": 1
}
