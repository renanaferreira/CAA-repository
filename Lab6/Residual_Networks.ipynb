{
 "cells": [
  {
   "cell_type": "markdown",
   "metadata": {},
   "source": [
    "# Lab: Residual Networks (ResNet)\n",
    "\n",
    "With this assignment you will build a very deep convolutional network known as Residual Network. "
   ]
  },
  {
   "cell_type": "code",
   "execution_count": null,
   "metadata": {},
   "outputs": [],
   "source": [
    "import tensorflow as tf\n",
    "import numpy as np\n",
    "import scipy.misc\n",
    "from tensorflow.keras.applications.resnet_v2 import ResNet50V2\n",
    "from tensorflow.keras.preprocessing import image\n",
    "from tensorflow.keras.applications.resnet_v2 import preprocess_input, decode_predictions\n",
    "from tensorflow.keras import layers\n",
    "from tensorflow.keras.layers import Input, Add, Dense, Activation, ZeroPadding2D,BatchNormalization, Flatten, Conv2D, AveragePooling2D, MaxPooling2D, GlobalMaxPooling2D\n",
    "\n",
    "from tensorflow.keras.layers import BatchNormalization, Flatten, Conv2D, AveragePooling2D, MaxPooling2D, GlobalMaxPooling2D\n",
    "from tensorflow.keras.models import Model, load_model\n",
    "from resnets_utils import *\n",
    "from tensorflow.keras.initializers import random_uniform, glorot_uniform, constant, identity\n",
    "from tensorflow.python.framework.ops import EagerTensor\n",
    "from matplotlib.pyplot import imshow\n",
    "\n",
    "%matplotlib inline"
   ]
  },
  {
   "cell_type": "markdown",
   "metadata": {},
   "source": [
    "##  The Problem of Very Deep Neural Networks\n",
    "\n",
    "In recent years, neural networks have become much deeper, evolving from having just a few layers (e.g., AlexNet) to over a hundred layers.\n",
    "\n",
    "* The main benefit of a very deep network is that it can represent very complex functions. It can also learn features at many different levels of abstraction, from edges (at the shallower layers, closer to the input) to very complex features (at the deeper layers, closer to the output). \n",
    "\n",
    "* But in practice, they are hard to train.  A huge barrier to training them is vanishing gradients: very deep networks often have a gradient signal that goes to zero quickly, thus making gradient descent very slow.\n",
    "\n",
    "* More specifically, during gradient descent, as you backpropagate from the final layer back to the first layer, the gradient can decrease exponentially quickly to zero (or, in rare cases, grow exponentially quickly and \"explode,\" from gaining very large values). \n",
    "\n",
    "* During training, you might see the magnitude (or norm) of the gradient for the shallower (the first) layers decrease to zero very rapidly as training proceeds, as shown below: "
   ]
  },
  {
   "cell_type": "markdown",
   "metadata": {},
   "source": [
    "<img src=\"images/vanishing_grad_kiank.png\" style=\"width:400px;height:200px;\">\n",
    "<caption><center> <u> <font color='purple'> <b>Figure 1</b> </u><font color='purple'>  : <b>Vanishing gradient</b> <br> The speed of learning decreases very rapidly for the shallower layers as the network trains </center></caption>\n",
    "\n"
   ]
  },
  {
   "cell_type": "markdown",
   "metadata": {},
   "source": [
    "##  Building a Residual Network\n",
    "\n",
    "Residual Networks, introduced by [He et al.](https://arxiv.org/pdf/1512.03385.pdf), allow to train much deeper networks. \n",
    "\n",
    "In ResNets, a \"shortcut\" or a \"skip connection\" allows the model to skip layers:  \n",
    "\n",
    "<img src=\"images/skip_connection_kiank.png\" style=\"width:300px;height:120px;\">\n",
    "<caption><center> <u> <font color='purple'> <b>Figure 2</b> </u><font color='purple'>  : A ResNet block showing a skip-connection <br> </center></caption>\n",
    "\n",
    "The image on the left shows the \"main path\" through the network. The image on the right adds a shortcut to the main path. By stacking these ResNet blocks, a very deep network can be formed. \n",
    "\n",
    "Two main types of blocks are used in a ResNet, depending if the input/output dimensions are the same or different: \"identity block\" and \"convolutional block.\""
   ]
  },
  {
   "cell_type": "markdown",
   "metadata": {},
   "source": [
    "### Identity Block\n",
    "\n",
    "The identity block corresponds to the case where the input activation (say $a^{[l]}$) has the same dimension as the output activation (say $a^{[l+2]}$) (Fig.3). \n",
    "\n",
    "<img src=\"images/idblock2_kiank.png\" style=\"width:600px;height:120px;\">\n",
    "<caption><center> <u> <font color='purple'> <b>Figure 3</b> </u><font color='purple'>  : <b>Identity block.</b> Skip connection \"skips over\" 2 layers. </center></caption>\n",
    "\n",
    "The upper path is the \"shortcut path.\" The lower path is the \"main path.\"  To speed up training, a BatchNorm step has been added. \n",
    "\n",
    "In this exercise, you'll implement a skip connection \"skips over\" 3 hidden layers rather than 2 layers. It looks like in Fig.4: \n",
    "\n",
    "<img src=\"images/idblock3_kiank.png\" style=\"width:600px;height:120px;\">\n",
    "    <caption><center> <u> <font color='purple'> <b>Figure 4</b> </u><font color='purple'>  : <b>Identity block.</b> Skip connection \"skips over\" 3 layers.</center></caption>"
   ]
  },
  {
   "cell_type": "markdown",
   "metadata": {},
   "source": [
    "### Ex. 1 - ResNet identity_block\n",
    "\n",
    "- To implement the Conv2D step: [Conv2D](https://www.tensorflow.org/api_docs/python/tf/keras/layers/Conv2D)\n",
    "- To implement BatchNorm: [BatchNormalization](https://www.tensorflow.org/api_docs/python/tf/keras/layers/BatchNormalization) `BatchNormalization(axis = 3)(X, training = training)`. If training is set to False, its weights are not updated with the new examples, that is the model is used in prediction mode.\n",
    "- For the activation, use:  `Activation('relu')(X)`\n",
    "- To add the value passed forward by the shortcut: [Add](https://www.tensorflow.org/api_docs/python/tf/keras/layers/Add)\n",
    "\n",
    "The initializer argument is set to [random_uniform]. \n",
    "\n",
    "These are the individual steps:\n",
    "\n",
    "**First component of main path:**\n",
    "- CONV2D has $F_1$ filters of shape (1,1), stride of (1,1), padding \"valid\". `kernel_initializer = initializer(seed=0)`. \n",
    "- BatchNorm is normalizing the 'channels' axis.\n",
    "- Apply ReLU activation function. It has no hyperparameters. \n",
    "\n",
    "**Second component of main path:**\n",
    "- CONV2D has $F_2$ filters of shape $(f,f)$, stride of (1,1), padding \"same\". `kernel_initializer = initializer(seed=0)`.\n",
    "- BatchNorm is normalizing the 'channels' axis.\n",
    "- Apply ReLU activation function. \n",
    "\n",
    "**Third component of main path:**\n",
    "- CONV2D has $F_3$ filters of shape (1,1), stride of (1,1), padding \"valid\". `kernel_initializer = initializer(seed=0)`. \n",
    "- BatchNorm is normalizing the 'channels' axis.\n",
    "- There is **no** ReLU activation function in this component. \n",
    "\n",
    "**Final step:**\n",
    "- `X_shortcut` and the output from the 3rd layer `X` are added together.\n",
    "- **Hint**: The syntax will look something like `Add()([var1,var2])`\n",
    "- Apply ReLU activation function. \n",
    "\n",
    "The first component of the main path has been implemented. Implement the rest. \n",
    "\n",
    "Use seed =0 for the random uniform initialization to get compatible results with the given answers.\n"
   ]
  },
  {
   "cell_type": "code",
   "execution_count": null,
   "metadata": {
    "nbgrader": {
     "grade": false,
     "grade_id": "cell-0017b68317ffa974",
     "locked": false,
     "schema_version": 3,
     "solution": true,
     "task": false
    }
   },
   "outputs": [],
   "source": [
    "# Identity_block as skip connection\n",
    "\n",
    "def identity_block(X, f, filters, training=True, initializer=random_uniform):\n",
    "    \"\"\"\n",
    "    Implementation of the identity block as defined in Fig. 4\n",
    "    \n",
    "    Arguments:\n",
    "    X -- input tensor of shape (m, n_H_prev, n_W_prev, n_C_prev)\n",
    "    f -- integer, specifying the shape of the filters of the second \n",
    "    CONV2D component for the main path\n",
    "    \n",
    "    filters -- python list of integers, defining the number of \n",
    "    filters in the CONV layers of the main path\n",
    "    training -- True: Behave in training mode\n",
    "                False: Behave in inference mode\n",
    "    initializer -- to set up the initial weights of a layer. \n",
    "                   Equals to random uniform initializer\n",
    "    \n",
    "    Returns:\n",
    "    X -- output of the identity block, tensor of shape (n_H, n_W, n_C)\n",
    "    \"\"\"\n",
    "    \n",
    "    # Retrieve Filters\n",
    "    F1, F2, F3 = filters\n",
    "    \n",
    "    # Save the input value. \n",
    "    #You'll need this later to add back to the main path. \n",
    "    X_shortcut = X\n",
    "    cache = []\n",
    "    # First component of main path\n",
    "    X = Conv2D(filters = F1, kernel_size = 1, strides = (1,1), \n",
    "        padding = 'valid',kernel_initializer = initializer(seed=0))(X)\n",
    "    X = BatchNormalization(axis = 3)(X, training = training) \n",
    "    X = Activation('relu')(X)\n",
    "    \n",
    "    ## Second component of main path\n",
    "    X = ?\n",
    "\n",
    "    ## Third component of main path \n",
    "    X = ?\n",
    "    \n",
    "# Final step:Add shortcut to main path pass it through a RELU activ.\n",
    "    \n",
    "    X = Add()([X_shortcut,X])\n",
    "    X = Activation('relu')(X)\n",
    "\n",
    "    return X"
   ]
  },
  {
   "cell_type": "markdown",
   "metadata": {},
   "source": [
    "### Convolutional Block\n",
    "\n",
    "The ResNet \"convolutional block\" is the second block type. You can use this type of block when the input and output dimensions don't match up. The difference with the identity block is that there is a CONV2D layer in the shortcut path: \n",
    "\n",
    "<img src=\"images/convblock_kiank.png\" style=\"width:600px;height:120px;\">\n",
    "<caption><center> <u> <font color='purple'> <b>Figure 5</b> </u><font color='purple'>  : <b>Convolutional block</b> </center></caption>\n",
    "\n",
    "* The CONV2D layer in the shortcut path is used to resize the input $x$ to a different dimension. \n",
    "* For example, to reduce the activation dimensions's height and width by a factor of 2, you can use a 1x1 convolution with a stride of 2. \n",
    "* The`initializer` is set to [glorot_uniform]. \n",
    "\n",
    "### Ex. 2 - ResNet convolutional_block\n",
    "    \n",
    "**First component of main path:**\n",
    "- CONV2D has $F_1$ filters of shape (1,1), stride of (s,s), padding \"valid\". `kernel_initializer = initializer(seed=0)`.\n",
    "- BatchNorm is normalizing the 'channels' axis.\n",
    "- Apply ReLU activation function.\n",
    "\n",
    "**Second component of main path:**\n",
    "- CONV2D has $F_2$ filters of shape (f,f), stride of (1,1), padding \"same\".  `kernel_initializer = initializer(seed=0)`.\n",
    "- BatchNorm is normalizing the 'channels' axis.\n",
    "- Apply ReLU activation function.\n",
    "\n",
    "**Third component of main path:**\n",
    "- CONV2D has $F_3$ filters of shape (1,1), stride of (1,1), padding \"valid\". `kernel_initializer = initializer(seed=0)`.\n",
    "- BatchNorm is normalizing the 'channels' axis. \n",
    "- No ReLU activation function in this component. \n",
    "\n",
    "**Shortcut path:**\n",
    "- CONV2D has $F_3$ filters of shape (1,1), stride of (s,s), padding \"valid\". `kernel_initializer = initializer(seed=0)`.\n",
    "- BatchNorm is normalizing the 'channels' axis. \n",
    "\n",
    "**Final step:**\n",
    "- The shortcut and the main path values are added together.\n",
    "- Apply ReLU activation function.\n",
    " \n",
    "    \n",
    "The first component of the main path is already implemented. Implement the rest."
   ]
  },
  {
   "cell_type": "code",
   "execution_count": null,
   "metadata": {
    "nbgrader": {
     "grade": false,
     "grade_id": "cell-df47af4847e5335f",
     "locked": false,
     "schema_version": 3,
     "solution": true,
     "task": false
    }
   },
   "outputs": [],
   "source": [
    "# Convolutional_block as skip connection\n",
    "\n",
    "def convolutional_block(X, f, filters, s = 2, training=True, \n",
    "                        initializer=glorot_uniform):\n",
    "    \"\"\"\n",
    "    Implementation of the convolutional block as defined in Fig. 5\n",
    "    \n",
    "    Arguments:\n",
    "    X -- input tensor of shape (m, n_H_prev, n_W_prev, n_C_prev)\n",
    "    f -- integer, specifying the shape of the filters of the second \n",
    "    CONV layer of the main path\n",
    "    \n",
    "    filters -- python list of integers, defining the number of filters \n",
    "    in the CONV layers \n",
    "                                                                          of the main path\n",
    "    s -- Integer, specifying the stride to be used\n",
    "    training -- True: Behave in training mode\n",
    "                False: Behave in inference mode\n",
    "    initializer -- to set up the initial weights of a layer. \n",
    "    Equals to Glorot uniform initializer, also called Xavier uniform \n",
    "    initializer.\n",
    "    \n",
    "    Returns:\n",
    "    X -- output of the convolutional block, \n",
    "    tensor of shape (n_H, n_W, n_C)\n",
    "    \"\"\"\n",
    "    \n",
    "    # Retrieve Filters\n",
    "    F1, F2, F3 = filters\n",
    "    \n",
    "    # Save the input value\n",
    "    X_shortcut = X\n",
    "\n",
    "    ##### MAIN PATH #####\n",
    "    \n",
    "    # First component of main path glorot_uniform(seed=0)\n",
    "    X = Conv2D(filters = F1, kernel_size = 1, strides = (s, s), \n",
    "      padding='valid', kernel_initializer = initializer(seed=0))(X)\n",
    "    X = BatchNormalization(axis = 3)(X, training=training)\n",
    "    X = Activation('relu')(X)\n",
    "      \n",
    "    ## Second component of main path\n",
    "    X = ?\n",
    "\n",
    "    ## Third component of main path\n",
    "    X = ?\n",
    "    \n",
    "    ##### SHORTCUT PATH ##### \n",
    "    X_shortcut = ?\n",
    "    \n",
    "# Final step: Add shortcut to main path & pass it through a RELU\n",
    "# (Use this order [X, X_shortcut]), \n",
    "    \n",
    "    X = ?\n",
    "    \n",
    "        \n",
    "    return X"
   ]
  },
  {
   "cell_type": "markdown",
   "metadata": {},
   "source": [
    "##  Building ResNet Model (50 layers)\n",
    "\n",
    "You now have the necessary blocks to build a very deep ResNet. Fig. 6 describes the architecture of this neural network. \"ID BLOCK\" stands for \"Identity block,\" and \"ID BLOCK x3\" means to stack 3 identity blocks together.\n",
    "\n",
    "<img src=\"images/resnet_kiank.png\" style=\"width:800px;height:120px;\">\n",
    "<caption><center> <u> <font color='purple'> <b>Figure 6</b> </u><font color='purple'>  : <b>ResNet-50 model</b> </center></caption>\n",
    "    \n",
    "### Exercise 3 - ResNet50 \n",
    "\n",
    "The details of this ResNet-50 model are:\n",
    "- Zero-padding pads the input with a pad of (3,3)\n",
    "    \n",
    "- Stage 1:\n",
    "    - 2D Convolution has 64 filters of shape (7,7) and stride of (2,2). \n",
    "    - BatchNorm is applied to the 'channels' axis of the input.\n",
    "    - MaxPooling uses a (3,3) window and (2,2) stride.\n",
    "    \n",
    "- Stage 2:\n",
    "    - Convolutional block uses three sets of filters of size [64,64,256], \"f\" is 3, and \"s\" is 1.\n",
    "    - 2 Identity Blocks use three sets of filters of size [64,64,256], and \"f\" is 3.\n",
    "    \n",
    "- Stage 3:\n",
    "    - Convolutional block uses three sets of filters of size [128,128,512], \"f\" is 3 and \"s\" is 2.\n",
    "    - 3 Identity Blocks use three sets of filters of size [128,128,512] and \"f\" is 3.\n",
    "    \n",
    "- Stage 4:\n",
    "    - Convolutional block uses three sets of filters of size [256, 256, 1024], \"f\" is 3 and \"s\" is 2.\n",
    "    - 5 Identity Blocks use three sets of filters of size [256, 256, 1024] and \"f\" is 3\n",
    "    \n",
    "- Stage 5:\n",
    "    - Convolutional block uses three sets of filters of size [512, 512, 2048], \"f\" is 3 and \"s\" is 2.\n",
    "    - 2 Identity Blocks use three sets of filters of size [512, 512, 2048] and \"f\" is 3.\n",
    "    - 2D Average Pooling uses a window of shape (2,2).\n",
    "    - 'flatten' layer doesn't have any hyperparameters.\n",
    "    - Fully Connected (Dense) layer reduces its input to the number of classes using a softmax activation.\n",
    "\n",
    "Implement ResNet with 50 layers described in Fig.6.Stages 1 and 2 are  implemented. Implement the rest. (The syntax for implementing Stages 3-5 is quite similar to that of Stage 2). \n"
   ]
  },
  {
   "cell_type": "code",
   "execution_count": null,
   "metadata": {
    "nbgrader": {
     "grade": false,
     "grade_id": "cell-10dc95a4cf6275b9",
     "locked": false,
     "schema_version": 3,
     "solution": true,
     "task": false
    }
   },
   "outputs": [],
   "source": [
    "# ResNet50\n",
    "\n",
    "def ResNet50(input_shape = (64, 64, 3), classes = 6):\n",
    "    \"\"\"\n",
    "    Stage-wise implementation of the architecture of ResNet50:\n",
    "    CONV2D -> BATCHNORM -> RELU -> MAXPOOL -> CONVBLOCK -> \n",
    "    -> IDBLOCK*2 -> CONVBLOCK -> IDBLOCK*3\n",
    "    \n",
    "    -> CONVBLOCK -> IDBLOCK*5 -> CONVBLOCK -> IDBLOCK*2 -> AVGPOOL ->\n",
    "     -> FLATTEN -> DENSE \n",
    "\n",
    "    Arguments:\n",
    "    input_shape -- shape of the images of the dataset\n",
    "    classes -- integer, number of classes\n",
    "\n",
    "    Returns:\n",
    "    model -- a Model() instance in Keras\n",
    "    \"\"\"\n",
    "    \n",
    "    # Define the input as a tensor with shape input_shape\n",
    "    X_input = Input(input_shape)\n",
    "    \n",
    "    # Zero-Padding\n",
    "    X = ZeroPadding2D((3, 3))(X_input)\n",
    "    \n",
    "    # Stage 1\n",
    "    X = Conv2D(64, (7, 7), strides = (2, 2), \n",
    "               kernel_initializer = glorot_uniform(seed=0))(X)\n",
    "    X = BatchNormalization(axis = 3)(X)\n",
    "    X = Activation('relu')(X)\n",
    "    X = MaxPooling2D((3, 3), strides=(2, 2))(X)\n",
    "\n",
    "    # Stage 2\n",
    "    X = convolutional_block(X, f = 3, filters = [64, 64, 256], s = 1)\n",
    "    X = identity_block(X, 3, [64, 64, 256])\n",
    "    X = identity_block(X, 3, [64, 64, 256])\n",
    "\n",
    "    ## Stage 3\n",
    "    X = ?\n",
    "    \n",
    "    ## Stage 4 \n",
    "    X = ?\n",
    "\n",
    "    ## Stage 5 \n",
    "    X = ?\n",
    "    \n",
    "    ##  Use \"X = AveragePooling2D(...)(X)\"\n",
    "    X = ?\n",
    "\n",
    "    # output layer\n",
    "    X = Flatten()(X)\n",
    "    X = Dense(classes, activation='softmax', \n",
    "              kernel_initializer = glorot_uniform(seed=0))(X)\n",
    "    \n",
    "    # Create model\n",
    "    model = Model(inputs = X_input, outputs = X)\n",
    "\n",
    "    return model"
   ]
  },
  {
   "cell_type": "code",
   "execution_count": null,
   "metadata": {},
   "outputs": [],
   "source": [
    "# Build the ResNet50 model's graph\n",
    "\n",
    "model = ?\n"
   ]
  },
  {
   "cell_type": "code",
   "execution_count": null,
   "metadata": {},
   "outputs": [],
   "source": [
    "# Compile the model \n",
    "# optimizer 'adam'; loss 'categorical_crossentropy'; metrics 'accuracy'\n",
    "\n",
    "?"
   ]
  },
  {
   "cell_type": "code",
   "execution_count": null,
   "metadata": {},
   "outputs": [],
   "source": [
    "# Print a summary of the model\n",
    "?"
   ]
  },
  {
   "cell_type": "markdown",
   "metadata": {},
   "source": [
    "The model is now ready to be trained. Let's load the SIGNS dataset.\n",
    "\n",
    "<img src=\"images/signs_data_kiank.png\" style=\"width:400px;height:200px;\">\n",
    "<caption><center> <u> <font color='purple'> <b>Figure 7</b> </u><font color='purple'>  : <b>SIGNS dataset</b> </center></caption>\n"
   ]
  },
  {
   "cell_type": "code",
   "execution_count": null,
   "metadata": {
    "scrolled": true
   },
   "outputs": [],
   "source": [
    "#data of only 6 classes (0,1,2,3,4,5)\n",
    "X_train_orig, Y_train_orig, X_test_orig, Y_test_orig, classes = load_dataset()\n",
    "\n",
    "#Normalize the images between [0, 1]\n",
    "X_train = ?\n",
    "X_test = ?\n",
    "\n",
    "#What is the dimension of Y_train_orig, Y_test_orig\n",
    "\n",
    "?\n",
    "\n",
    "# Convert train & test labels (0,1,2,3,4,5) \n",
    "# into binary labels(0,1) - one hot matrices\n",
    "Y_train = ?\n",
    "Y_test = ?\n",
    "\n",
    "print (\"number of training examples = ?\")\n",
    "\n",
    "print (\"number of test examples = ? \")\n",
    "\n",
    "#Print the shape of X_train, Y_train, X_test, Y_test\n"
   ]
  },
  {
   "cell_type": "code",
   "execution_count": null,
   "metadata": {
    "scrolled": false
   },
   "outputs": [],
   "source": [
    "#Train (fit) the model on a few epochs with a batch size of 32\n",
    "#If your computer is relatively slow choose epochs=2\n",
    "#If your computer is relatively fast choose epochs=10\n",
    "\n",
    "?"
   ]
  },
  {
   "cell_type": "markdown",
   "metadata": {},
   "source": [
    "**Expected Output**:\n",
    "\n",
    "```\n",
    "Epoch 1/10\n",
    "34/34 [==============================] - 1s 34ms/step - loss: 1.9241 - accuracy: 0.4620\n",
    "Epoch 2/10\n",
    "34/34 [==============================] - 2s 57ms/step - loss: 0.6403 - accuracy: 0.7898\n",
    "Epoch 3/10\n",
    "34/34 [==============================] - 1s 24ms/step - loss: 0.3744 - accuracy: 0.8731\n",
    "Epoch 4/10\n",
    "34/34 [==============================] - 2s 44ms/step - loss: 0.2220 - accuracy: 0.9231\n",
    "Epoch 5/10\n",
    "34/34 [==============================] - 2s 57ms/step - loss: 0.1333 - accuracy: 0.9583\n",
    "Epoch 6/10\n",
    "34/34 [==============================] - 2s 52ms/step - loss: 0.2243 - accuracy: 0.9444\n",
    "Epoch 7/10\n",
    "34/34 [==============================] - 2s 48ms/step - loss: 0.2913 - accuracy: 0.9102\n",
    "Epoch 8/10\n",
    "34/34 [==============================] - 1s 30ms/step - loss: 0.2269 - accuracy: 0.9306\n",
    "Epoch 9/10\n",
    "34/34 [==============================] - 2s 46ms/step - loss: 0.1113 - accuracy: 0.9630\n",
    "Epoch 10/10\n",
    "34/34 [==============================] - 2s 57ms/step - loss: 0.0709 - accuracy: 0.9778\n",
    "```\n",
    "\n",
    "The exact values may not match due to random inicialization, but the important thing is that the loss value decreases, and the accuracy increases over the epochs."
   ]
  },
  {
   "cell_type": "code",
   "execution_count": null,
   "metadata": {
    "scrolled": true
   },
   "outputs": [],
   "source": [
    "# Let's see how this model (trained on only a few epochs) \n",
    "# performs on the test set.\n",
    " \n",
    "    ?\n",
    "\n",
    "print (\"Test Accuracy = ?\")"
   ]
  },
  {
   "cell_type": "markdown",
   "metadata": {},
   "source": [
    "**Expected Output (for epochs=2)**:Test Accuracy >  0.7\n",
    "\n",
    "**Expected Output (for epochs=10)**:Test Accuracy > 0.80"
   ]
  },
  {
   "cell_type": "markdown",
   "metadata": {},
   "source": [
    "You can train the ResNet for more iterations, if you want. It tends to get better performance when trained for ~20 epochs, but this does take more than an hour when training on a CPU. \n",
    "\n",
    "You can load and run a pretrained (using a GPU) ResNet50 model on the test set in the cells below. It may take some time to load the model. "
   ]
  },
  {
   "cell_type": "code",
   "execution_count": null,
   "metadata": {},
   "outputs": [],
   "source": [
    "pre_trained_model = tf.keras.models.load_model('resnet50.h5')"
   ]
  },
  {
   "cell_type": "code",
   "execution_count": null,
   "metadata": {},
   "outputs": [],
   "source": [
    "# Let's see how the pretrained model performs on the test set.\n",
    "# Compute Test Acc\n",
    "\n",
    "preds_test = ?\n",
    "\n",
    "\n"
   ]
  },
  {
   "cell_type": "code",
   "execution_count": null,
   "metadata": {},
   "outputs": [],
   "source": [
    "# Let's see how the pretrained model performs on the train set.\n",
    "# Compute the Train Acc\n",
    "\n",
    "preds_train = ?\n",
    "\n"
   ]
  },
  {
   "cell_type": "markdown",
   "metadata": {},
   "source": [
    "### 5 - Test on Your Own Image"
   ]
  },
  {
   "cell_type": "markdown",
   "metadata": {},
   "source": [
    "You can take a picture of your own hand and see the output of the model. To do this:\n",
    "\n",
    "    1. Add your image to this Jupyter Notebook's directory, in the \"images\" folder\n",
    "    2. Write your image's name in the following code\n",
    "    3. Run the code and check if the algorithm is right! "
   ]
  },
  {
   "cell_type": "code",
   "execution_count": null,
   "metadata": {},
   "outputs": [],
   "source": [
    "img_path = 'images/my_image.jpg'\n",
    "img = image.load_img(img_path, target_size=(64, 64))\n",
    "\n",
    "x = image.img_to_array(img)\n",
    "\n",
    "x = np.expand_dims(x, axis=0)\n",
    "\n",
    "# Normalize the image (between 0-1)\n",
    "x = \n",
    "print('Input image shape:', x.shape)\n",
    "imshow(img)\n",
    "\n",
    "#Apply the pretrained model to predict the class\n",
    "prediction = ?\n",
    "\n",
    "# Print the probabilities of the 6 classes \n",
    "?\n",
    "\n",
    "#The class is equal to the max probability \n",
    "?\n"
   ]
  },
  {
   "cell_type": "code",
   "execution_count": null,
   "metadata": {},
   "outputs": [],
   "source": []
  }
 ],
 "metadata": {
  "celltoolbar": "Raw Cell Format",
  "kernelspec": {
   "display_name": "Python 3 (ipykernel)",
   "language": "python",
   "name": "python3"
  },
  "language_info": {
   "codemirror_mode": {
    "name": "ipython",
    "version": 3
   },
   "file_extension": ".py",
   "mimetype": "text/x-python",
   "name": "python",
   "nbconvert_exporter": "python",
   "pygments_lexer": "ipython3",
   "version": "3.9.7"
  }
 },
 "nbformat": 4,
 "nbformat_minor": 2
}
